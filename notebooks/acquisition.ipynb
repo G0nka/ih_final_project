{
 "cells": [
  {
   "cell_type": "markdown",
   "metadata": {},
   "source": [
    "### Data Acquisition"
   ]
  },
  {
   "cell_type": "code",
   "execution_count": 1,
   "metadata": {},
   "outputs": [],
   "source": [
    "# Import of all needed modules\n",
    "import pandas as pd\n",
    "import numpy as np\n",
    "import matplotlib.pyplot as plt"
   ]
  },
  {
   "cell_type": "code",
   "execution_count": 2,
   "metadata": {},
   "outputs": [],
   "source": [
    "# Import of all needed data\n",
    "assets = pd.read_csv('../data/raw/Assets_2020Q4.csv')\n",
    "cf_liabs = pd.read_csv('../data/raw/Liabilities_2020Q4.csv')"
   ]
  },
  {
   "cell_type": "markdown",
   "metadata": {},
   "source": [
    "### *** 1.- Asset Cash Flow projection ***"
   ]
  },
  {
   "cell_type": "code",
   "execution_count": 3,
   "metadata": {},
   "outputs": [
    {
     "data": {
      "text/html": [
       "<div>\n",
       "<style scoped>\n",
       "    .dataframe tbody tr th:only-of-type {\n",
       "        vertical-align: middle;\n",
       "    }\n",
       "\n",
       "    .dataframe tbody tr th {\n",
       "        vertical-align: top;\n",
       "    }\n",
       "\n",
       "    .dataframe thead th {\n",
       "        text-align: right;\n",
       "    }\n",
       "</style>\n",
       "<table border=\"1\" class=\"dataframe\">\n",
       "  <thead>\n",
       "    <tr style=\"text-align: right;\">\n",
       "      <th></th>\n",
       "      <th>PLAN</th>\n",
       "      <th>ISIN</th>\n",
       "      <th>VALOR</th>\n",
       "      <th>CUPON</th>\n",
       "      <th>FEC_VTO</th>\n",
       "      <th>VC_ACTUAL</th>\n",
       "      <th>NOM</th>\n",
       "      <th>TYPEB</th>\n",
       "      <th>SECTOR</th>\n",
       "      <th>RATING</th>\n",
       "      <th>...</th>\n",
       "      <th>TIPO_PRODUCTO</th>\n",
       "      <th>TIR_MDO</th>\n",
       "      <th>DUR</th>\n",
       "      <th>TirContable</th>\n",
       "      <th>Frecuencia</th>\n",
       "      <th>PRECIO</th>\n",
       "      <th>EMISOR</th>\n",
       "      <th>PAIS</th>\n",
       "      <th>TIPO_CUPON</th>\n",
       "      <th>SENIORITY</th>\n",
       "    </tr>\n",
       "  </thead>\n",
       "  <tbody>\n",
       "    <tr>\n",
       "      <th>0</th>\n",
       "      <td>u101</td>\n",
       "      <td>ES0282102005</td>\n",
       "      <td>UNIVERSIDAD DE VALENCIA  6,6%  15/12/2022</td>\n",
       "      <td>6.6</td>\n",
       "      <td>12/15/2022</td>\n",
       "      <td>3,069,792.72</td>\n",
       "      <td>3,005,060.52</td>\n",
       "      <td>B</td>\n",
       "      <td>CAC</td>\n",
       "      <td>BB+</td>\n",
       "      <td>...</td>\n",
       "      <td>40</td>\n",
       "      <td>-0.29</td>\n",
       "      <td>1.895</td>\n",
       "      <td>5.41</td>\n",
       "      <td>1.0</td>\n",
       "      <td>113.83</td>\n",
       "      <td>Universidad de Valencia</td>\n",
       "      <td>ES</td>\n",
       "      <td>Fixed excl</td>\n",
       "      <td>SENIOR SECURED</td>\n",
       "    </tr>\n",
       "    <tr>\n",
       "      <th>1</th>\n",
       "      <td>u101</td>\n",
       "      <td>DE0001142552</td>\n",
       "      <td>BUNDESREPUB. DEUTSCHLAND  0%  04/01/2022</td>\n",
       "      <td>0.0</td>\n",
       "      <td>1/4/2022</td>\n",
       "      <td>2,880,903.65</td>\n",
       "      <td>3,000,000.00</td>\n",
       "      <td>B</td>\n",
       "      <td>A99</td>\n",
       "      <td>AAA</td>\n",
       "      <td>...</td>\n",
       "      <td>42</td>\n",
       "      <td>-0.74</td>\n",
       "      <td>1.008</td>\n",
       "      <td>4.09</td>\n",
       "      <td>0.0</td>\n",
       "      <td>100.75</td>\n",
       "      <td>Federal Republic of Germany</td>\n",
       "      <td>DE</td>\n",
       "      <td>Zero bonds</td>\n",
       "      <td>SENIOR UNSECURED</td>\n",
       "    </tr>\n",
       "    <tr>\n",
       "      <th>2</th>\n",
       "      <td>u101</td>\n",
       "      <td>IT0001247342</td>\n",
       "      <td>BUONI POLIENNALI STRIP  0%  01/11/2024</td>\n",
       "      <td>0.0</td>\n",
       "      <td>11/1/2024</td>\n",
       "      <td>319,205.01</td>\n",
       "      <td>400,000.00</td>\n",
       "      <td>B</td>\n",
       "      <td>A99</td>\n",
       "      <td>BBB-</td>\n",
       "      <td>...</td>\n",
       "      <td>42</td>\n",
       "      <td>-0.21</td>\n",
       "      <td>3.836</td>\n",
       "      <td>6.06</td>\n",
       "      <td>0.0</td>\n",
       "      <td>100.83</td>\n",
       "      <td>Italian Republic</td>\n",
       "      <td>IT</td>\n",
       "      <td>Zero bonds</td>\n",
       "      <td>SENIOR UNSECURED</td>\n",
       "    </tr>\n",
       "    <tr>\n",
       "      <th>3</th>\n",
       "      <td>u101</td>\n",
       "      <td>FR0000570996</td>\n",
       "      <td>FRANCE O.A.T. STRIP  0%  25/04/2021</td>\n",
       "      <td>0.0</td>\n",
       "      <td>4/25/2021</td>\n",
       "      <td>5,035,102.13</td>\n",
       "      <td>5,100,000.00</td>\n",
       "      <td>B</td>\n",
       "      <td>A99</td>\n",
       "      <td>AA</td>\n",
       "      <td>...</td>\n",
       "      <td>42</td>\n",
       "      <td>-0.47</td>\n",
       "      <td>0.315</td>\n",
       "      <td>4.11</td>\n",
       "      <td>0.0</td>\n",
       "      <td>100.15</td>\n",
       "      <td>French Republic</td>\n",
       "      <td>FR</td>\n",
       "      <td>Zero bonds</td>\n",
       "      <td>SENIOR UNSECURED</td>\n",
       "    </tr>\n",
       "    <tr>\n",
       "      <th>4</th>\n",
       "      <td>u101</td>\n",
       "      <td>IT0004848435</td>\n",
       "      <td>ITALY BTPS HYBRID</td>\n",
       "      <td>0.0</td>\n",
       "      <td>11/1/2023</td>\n",
       "      <td>477,212.70</td>\n",
       "      <td>565,000.00</td>\n",
       "      <td>B</td>\n",
       "      <td>A99</td>\n",
       "      <td>BBB-</td>\n",
       "      <td>...</td>\n",
       "      <td>42</td>\n",
       "      <td>-0.30</td>\n",
       "      <td>2.833</td>\n",
       "      <td>6.14</td>\n",
       "      <td>0.0</td>\n",
       "      <td>100.86</td>\n",
       "      <td>Italian Republic</td>\n",
       "      <td>IT</td>\n",
       "      <td>Zero bonds</td>\n",
       "      <td>SENIOR UNSECURED</td>\n",
       "    </tr>\n",
       "  </tbody>\n",
       "</table>\n",
       "<p>5 rows × 23 columns</p>\n",
       "</div>"
      ],
      "text/plain": [
       "   PLAN          ISIN                                      VALOR  CUPON  \\\n",
       "0  u101  ES0282102005  UNIVERSIDAD DE VALENCIA  6,6%  15/12/2022    6.6   \n",
       "1  u101  DE0001142552   BUNDESREPUB. DEUTSCHLAND  0%  04/01/2022    0.0   \n",
       "2  u101  IT0001247342     BUONI POLIENNALI STRIP  0%  01/11/2024    0.0   \n",
       "3  u101  FR0000570996        FRANCE O.A.T. STRIP  0%  25/04/2021    0.0   \n",
       "4  u101  IT0004848435                          ITALY BTPS HYBRID    0.0   \n",
       "\n",
       "      FEC_VTO     VC_ACTUAL           NOM TYPEB SECTOR RATING  ...  \\\n",
       "0  12/15/2022  3,069,792.72  3,005,060.52     B    CAC    BB+  ...   \n",
       "1    1/4/2022  2,880,903.65  3,000,000.00     B    A99    AAA  ...   \n",
       "2   11/1/2024    319,205.01    400,000.00     B    A99   BBB-  ...   \n",
       "3   4/25/2021  5,035,102.13  5,100,000.00     B    A99     AA  ...   \n",
       "4   11/1/2023    477,212.70    565,000.00     B    A99   BBB-  ...   \n",
       "\n",
       "   TIPO_PRODUCTO  TIR_MDO    DUR TirContable  Frecuencia  PRECIO  \\\n",
       "0             40    -0.29  1.895        5.41         1.0  113.83   \n",
       "1             42    -0.74  1.008        4.09         0.0  100.75   \n",
       "2             42    -0.21  3.836        6.06         0.0  100.83   \n",
       "3             42    -0.47  0.315        4.11         0.0  100.15   \n",
       "4             42    -0.30  2.833        6.14         0.0  100.86   \n",
       "\n",
       "                        EMISOR  PAIS  TIPO_CUPON         SENIORITY  \n",
       "0      Universidad de Valencia    ES  Fixed excl    SENIOR SECURED  \n",
       "1  Federal Republic of Germany    DE  Zero bonds  SENIOR UNSECURED  \n",
       "2             Italian Republic    IT  Zero bonds  SENIOR UNSECURED  \n",
       "3              French Republic    FR  Zero bonds  SENIOR UNSECURED  \n",
       "4             Italian Republic    IT  Zero bonds  SENIOR UNSECURED  \n",
       "\n",
       "[5 rows x 23 columns]"
      ]
     },
     "execution_count": 3,
     "metadata": {},
     "output_type": "execute_result"
    }
   ],
   "source": [
    "assets.head()"
   ]
  },
  {
   "cell_type": "code",
   "execution_count": 4,
   "metadata": {},
   "outputs": [],
   "source": [
    "assets_mod = assets[['PLAN','ISIN','VALOR','CUPON','FEC_VTO','NOM']]"
   ]
  },
  {
   "cell_type": "code",
   "execution_count": 5,
   "metadata": {},
   "outputs": [
    {
     "data": {
      "text/html": [
       "<div>\n",
       "<style scoped>\n",
       "    .dataframe tbody tr th:only-of-type {\n",
       "        vertical-align: middle;\n",
       "    }\n",
       "\n",
       "    .dataframe tbody tr th {\n",
       "        vertical-align: top;\n",
       "    }\n",
       "\n",
       "    .dataframe thead th {\n",
       "        text-align: right;\n",
       "    }\n",
       "</style>\n",
       "<table border=\"1\" class=\"dataframe\">\n",
       "  <thead>\n",
       "    <tr style=\"text-align: right;\">\n",
       "      <th></th>\n",
       "      <th>PLAN</th>\n",
       "      <th>ISIN</th>\n",
       "      <th>VALOR</th>\n",
       "      <th>CUPON</th>\n",
       "      <th>FEC_VTO</th>\n",
       "      <th>NOM</th>\n",
       "    </tr>\n",
       "  </thead>\n",
       "  <tbody>\n",
       "    <tr>\n",
       "      <th>0</th>\n",
       "      <td>u101</td>\n",
       "      <td>ES0282102005</td>\n",
       "      <td>UNIVERSIDAD DE VALENCIA  6,6%  15/12/2022</td>\n",
       "      <td>6.60</td>\n",
       "      <td>12/15/2022</td>\n",
       "      <td>3,005,060.52</td>\n",
       "    </tr>\n",
       "    <tr>\n",
       "      <th>1</th>\n",
       "      <td>u101</td>\n",
       "      <td>DE0001142552</td>\n",
       "      <td>BUNDESREPUB. DEUTSCHLAND  0%  04/01/2022</td>\n",
       "      <td>0.00</td>\n",
       "      <td>1/4/2022</td>\n",
       "      <td>3,000,000.00</td>\n",
       "    </tr>\n",
       "    <tr>\n",
       "      <th>2</th>\n",
       "      <td>u101</td>\n",
       "      <td>IT0001247342</td>\n",
       "      <td>BUONI POLIENNALI STRIP  0%  01/11/2024</td>\n",
       "      <td>0.00</td>\n",
       "      <td>11/1/2024</td>\n",
       "      <td>400,000.00</td>\n",
       "    </tr>\n",
       "    <tr>\n",
       "      <th>3</th>\n",
       "      <td>u101</td>\n",
       "      <td>FR0000570996</td>\n",
       "      <td>FRANCE O.A.T. STRIP  0%  25/04/2021</td>\n",
       "      <td>0.00</td>\n",
       "      <td>4/25/2021</td>\n",
       "      <td>5,100,000.00</td>\n",
       "    </tr>\n",
       "    <tr>\n",
       "      <th>4</th>\n",
       "      <td>u101</td>\n",
       "      <td>IT0004848435</td>\n",
       "      <td>ITALY BTPS HYBRID</td>\n",
       "      <td>0.00</td>\n",
       "      <td>11/1/2023</td>\n",
       "      <td>565,000.00</td>\n",
       "    </tr>\n",
       "    <tr>\n",
       "      <th>5</th>\n",
       "      <td>u102</td>\n",
       "      <td>ES0213469580</td>\n",
       "      <td>EUROPEAN INVESTMENT BANK  8,5%  17/06/2021</td>\n",
       "      <td>8.50</td>\n",
       "      <td>6/17/2021</td>\n",
       "      <td>2,103,542.37</td>\n",
       "    </tr>\n",
       "    <tr>\n",
       "      <th>6</th>\n",
       "      <td>u102</td>\n",
       "      <td>XS0105656267</td>\n",
       "      <td>BAYER HYPO- VEREINSBANK  5%  21/12/2029</td>\n",
       "      <td>5.00</td>\n",
       "      <td>12/21/2029</td>\n",
       "      <td>15,200,000.00</td>\n",
       "    </tr>\n",
       "    <tr>\n",
       "      <th>7</th>\n",
       "      <td>u102</td>\n",
       "      <td>XS0105174352</td>\n",
       "      <td>BAYER HYPO- VEREINSBANK  9%  13/12/2024</td>\n",
       "      <td>9.00</td>\n",
       "      <td>12/13/2024</td>\n",
       "      <td>12,000,000.00</td>\n",
       "    </tr>\n",
       "    <tr>\n",
       "      <th>8</th>\n",
       "      <td>u102</td>\n",
       "      <td>XS0095166897</td>\n",
       "      <td>STATOILHYDRO ASA  7,15%  26/03/2029</td>\n",
       "      <td>7.15</td>\n",
       "      <td>3/26/2029</td>\n",
       "      <td>20,000,000.00</td>\n",
       "    </tr>\n",
       "    <tr>\n",
       "      <th>9</th>\n",
       "      <td>u102</td>\n",
       "      <td>XS0195051114</td>\n",
       "      <td>NWBK 5,15% 06/24</td>\n",
       "      <td>5.15</td>\n",
       "      <td>6/29/2024</td>\n",
       "      <td>60,000,000.00</td>\n",
       "    </tr>\n",
       "    <tr>\n",
       "      <th>10</th>\n",
       "      <td>u102</td>\n",
       "      <td>ES0000012932</td>\n",
       "      <td>ESTADO 4,20% 01/37</td>\n",
       "      <td>4.20</td>\n",
       "      <td>1/31/2037</td>\n",
       "      <td>62,400,000.00</td>\n",
       "    </tr>\n",
       "    <tr>\n",
       "      <th>11</th>\n",
       "      <td>u102</td>\n",
       "      <td>ES0414970246</td>\n",
       "      <td>CAIXAB3,625 01/21</td>\n",
       "      <td>3.63</td>\n",
       "      <td>1/18/2021</td>\n",
       "      <td>150,000.00</td>\n",
       "    </tr>\n",
       "    <tr>\n",
       "      <th>12</th>\n",
       "      <td>u102</td>\n",
       "      <td>ES0414970204</td>\n",
       "      <td>CAIXAB3,875 02/25</td>\n",
       "      <td>3.88</td>\n",
       "      <td>2/17/2025</td>\n",
       "      <td>20,000,000.00</td>\n",
       "    </tr>\n",
       "    <tr>\n",
       "      <th>13</th>\n",
       "      <td>u102</td>\n",
       "      <td>ES0312298021</td>\n",
       "      <td>AYTCED 3,75% 12/22</td>\n",
       "      <td>3.75</td>\n",
       "      <td>12/14/2022</td>\n",
       "      <td>32,000,000.00</td>\n",
       "    </tr>\n",
       "    <tr>\n",
       "      <th>14</th>\n",
       "      <td>u102</td>\n",
       "      <td>ES0000011868</td>\n",
       "      <td>ESTADO6%E/01-29</td>\n",
       "      <td>6.00</td>\n",
       "      <td>1/31/2029</td>\n",
       "      <td>34,627,761.41</td>\n",
       "    </tr>\n",
       "  </tbody>\n",
       "</table>\n",
       "</div>"
      ],
      "text/plain": [
       "    PLAN          ISIN                                       VALOR  CUPON  \\\n",
       "0   u101  ES0282102005   UNIVERSIDAD DE VALENCIA  6,6%  15/12/2022   6.60   \n",
       "1   u101  DE0001142552    BUNDESREPUB. DEUTSCHLAND  0%  04/01/2022   0.00   \n",
       "2   u101  IT0001247342      BUONI POLIENNALI STRIP  0%  01/11/2024   0.00   \n",
       "3   u101  FR0000570996         FRANCE O.A.T. STRIP  0%  25/04/2021   0.00   \n",
       "4   u101  IT0004848435                           ITALY BTPS HYBRID   0.00   \n",
       "5   u102  ES0213469580  EUROPEAN INVESTMENT BANK  8,5%  17/06/2021   8.50   \n",
       "6   u102  XS0105656267     BAYER HYPO- VEREINSBANK  5%  21/12/2029   5.00   \n",
       "7   u102  XS0105174352     BAYER HYPO- VEREINSBANK  9%  13/12/2024   9.00   \n",
       "8   u102  XS0095166897         STATOILHYDRO ASA  7,15%  26/03/2029   7.15   \n",
       "9   u102  XS0195051114                            NWBK 5,15% 06/24   5.15   \n",
       "10  u102  ES0000012932                          ESTADO 4,20% 01/37   4.20   \n",
       "11  u102  ES0414970246                           CAIXAB3,625 01/21   3.63   \n",
       "12  u102  ES0414970204                           CAIXAB3,875 02/25   3.88   \n",
       "13  u102  ES0312298021                          AYTCED 3,75% 12/22   3.75   \n",
       "14  u102  ES0000011868                             ESTADO6%E/01-29   6.00   \n",
       "\n",
       "       FEC_VTO            NOM  \n",
       "0   12/15/2022   3,005,060.52  \n",
       "1     1/4/2022   3,000,000.00  \n",
       "2    11/1/2024     400,000.00  \n",
       "3    4/25/2021   5,100,000.00  \n",
       "4    11/1/2023     565,000.00  \n",
       "5    6/17/2021   2,103,542.37  \n",
       "6   12/21/2029  15,200,000.00  \n",
       "7   12/13/2024  12,000,000.00  \n",
       "8    3/26/2029  20,000,000.00  \n",
       "9    6/29/2024  60,000,000.00  \n",
       "10   1/31/2037  62,400,000.00  \n",
       "11   1/18/2021     150,000.00  \n",
       "12   2/17/2025  20,000,000.00  \n",
       "13  12/14/2022  32,000,000.00  \n",
       "14   1/31/2029  34,627,761.41  "
      ]
     },
     "execution_count": 5,
     "metadata": {},
     "output_type": "execute_result"
    }
   ],
   "source": [
    "assets_mod.head(15)"
   ]
  },
  {
   "cell_type": "code",
   "execution_count": 6,
   "metadata": {},
   "outputs": [
    {
     "name": "stderr",
     "output_type": "stream",
     "text": [
      "/home/miguel/miniconda3/envs/ironhack_env/lib/python3.7/site-packages/ipykernel_launcher.py:2: SettingWithCopyWarning: \n",
      "A value is trying to be set on a copy of a slice from a DataFrame.\n",
      "Try using .loc[row_indexer,col_indexer] = value instead\n",
      "\n",
      "See the caveats in the documentation: http://pandas.pydata.org/pandas-docs/stable/indexing.html#indexing-view-versus-copy\n",
      "  \n",
      "/home/miguel/miniconda3/envs/ironhack_env/lib/python3.7/site-packages/ipykernel_launcher.py:3: SettingWithCopyWarning: \n",
      "A value is trying to be set on a copy of a slice from a DataFrame.\n",
      "Try using .loc[row_indexer,col_indexer] = value instead\n",
      "\n",
      "See the caveats in the documentation: http://pandas.pydata.org/pandas-docs/stable/indexing.html#indexing-view-versus-copy\n",
      "  This is separate from the ipykernel package so we can avoid doing imports until\n"
     ]
    }
   ],
   "source": [
    "## Lets adapt the time column in order to anualize the annual CF\n",
    "assets_mod['MATURITY'] = pd.DatetimeIndex(assets_mod['FEC_VTO']).year\n",
    "assets_mod['YRS_TO_MAT'] = pd.DatetimeIndex(assets_mod['FEC_VTO']).year - 2020"
   ]
  },
  {
   "cell_type": "code",
   "execution_count": 7,
   "metadata": {},
   "outputs": [
    {
     "data": {
      "text/plain": [
       "1298"
      ]
     },
     "execution_count": 7,
     "metadata": {},
     "output_type": "execute_result"
    }
   ],
   "source": [
    "total_assets = assets_mod.shape[0]\n",
    "total_assets"
   ]
  },
  {
   "cell_type": "code",
   "execution_count": 8,
   "metadata": {},
   "outputs": [
    {
     "name": "stdout",
     "output_type": "stream",
     "text": [
      "<class 'pandas.core.frame.DataFrame'>\n",
      "RangeIndex: 1298 entries, 0 to 1297\n",
      "Data columns (total 8 columns):\n",
      "PLAN          1298 non-null object\n",
      "ISIN          1268 non-null object\n",
      "VALOR         1298 non-null object\n",
      "CUPON         1298 non-null float64\n",
      "FEC_VTO       1298 non-null object\n",
      "NOM           1298 non-null object\n",
      "MATURITY      1298 non-null int64\n",
      "YRS_TO_MAT    1298 non-null int64\n",
      "dtypes: float64(1), int64(2), object(5)\n",
      "memory usage: 81.2+ KB\n"
     ]
    }
   ],
   "source": [
    "assets_mod.info()"
   ]
  },
  {
   "cell_type": "code",
   "execution_count": 9,
   "metadata": {},
   "outputs": [
    {
     "name": "stderr",
     "output_type": "stream",
     "text": [
      "/home/miguel/miniconda3/envs/ironhack_env/lib/python3.7/site-packages/ipykernel_launcher.py:1: SettingWithCopyWarning: \n",
      "A value is trying to be set on a copy of a slice from a DataFrame.\n",
      "Try using .loc[row_indexer,col_indexer] = value instead\n",
      "\n",
      "See the caveats in the documentation: http://pandas.pydata.org/pandas-docs/stable/indexing.html#indexing-view-versus-copy\n",
      "  \"\"\"Entry point for launching an IPython kernel.\n"
     ]
    }
   ],
   "source": [
    "assets_mod[\"NOM\"] = assets_mod[\"NOM\"].str.replace(',','')"
   ]
  },
  {
   "cell_type": "code",
   "execution_count": 10,
   "metadata": {},
   "outputs": [],
   "source": [
    "#assets_mod.loc[:,\"NOM\"] = assets_mod[\"NOM\"].str.replace(',','')"
   ]
  },
  {
   "cell_type": "code",
   "execution_count": 11,
   "metadata": {},
   "outputs": [
    {
     "name": "stderr",
     "output_type": "stream",
     "text": [
      "/home/miguel/miniconda3/envs/ironhack_env/lib/python3.7/site-packages/ipykernel_launcher.py:1: SettingWithCopyWarning: \n",
      "A value is trying to be set on a copy of a slice from a DataFrame.\n",
      "Try using .loc[row_indexer,col_indexer] = value instead\n",
      "\n",
      "See the caveats in the documentation: http://pandas.pydata.org/pandas-docs/stable/indexing.html#indexing-view-versus-copy\n",
      "  \"\"\"Entry point for launching an IPython kernel.\n"
     ]
    }
   ],
   "source": [
    "assets_mod[\"NOM\"] = pd.to_numeric(assets_mod[\"NOM\"], downcast='float', errors='ignore')"
   ]
  },
  {
   "cell_type": "code",
   "execution_count": 12,
   "metadata": {},
   "outputs": [
    {
     "name": "stderr",
     "output_type": "stream",
     "text": [
      "/home/miguel/miniconda3/envs/ironhack_env/lib/python3.7/site-packages/ipykernel_launcher.py:1: SettingWithCopyWarning: \n",
      "A value is trying to be set on a copy of a slice from a DataFrame.\n",
      "Try using .loc[row_indexer,col_indexer] = value instead\n",
      "\n",
      "See the caveats in the documentation: http://pandas.pydata.org/pandas-docs/stable/indexing.html#indexing-view-versus-copy\n",
      "  \"\"\"Entry point for launching an IPython kernel.\n"
     ]
    }
   ],
   "source": [
    "assets_mod[\"YRS_TO_MAT\"] = pd.to_numeric(assets_mod[\"YRS_TO_MAT\"], downcast='integer', errors='ignore')"
   ]
  },
  {
   "cell_type": "code",
   "execution_count": 13,
   "metadata": {},
   "outputs": [
    {
     "data": {
      "text/html": [
       "<div>\n",
       "<style scoped>\n",
       "    .dataframe tbody tr th:only-of-type {\n",
       "        vertical-align: middle;\n",
       "    }\n",
       "\n",
       "    .dataframe tbody tr th {\n",
       "        vertical-align: top;\n",
       "    }\n",
       "\n",
       "    .dataframe thead th {\n",
       "        text-align: right;\n",
       "    }\n",
       "</style>\n",
       "<table border=\"1\" class=\"dataframe\">\n",
       "  <thead>\n",
       "    <tr style=\"text-align: right;\">\n",
       "      <th></th>\n",
       "      <th>PLAN</th>\n",
       "      <th>ISIN</th>\n",
       "      <th>VALOR</th>\n",
       "      <th>COUPON</th>\n",
       "      <th>PRINCIPAL</th>\n",
       "      <th>YEAR</th>\n",
       "    </tr>\n",
       "  </thead>\n",
       "  <tbody>\n",
       "  </tbody>\n",
       "</table>\n",
       "</div>"
      ],
      "text/plain": [
       "Empty DataFrame\n",
       "Columns: [PLAN, ISIN, VALOR, COUPON, PRINCIPAL, YEAR]\n",
       "Index: []"
      ]
     },
     "execution_count": 13,
     "metadata": {},
     "output_type": "execute_result"
    }
   ],
   "source": [
    "cf_projection = pd.DataFrame(columns=['PLAN','ISIN','VALOR','COUPON','PRINCIPAL','YEAR'])\n",
    "cf_projection"
   ]
  },
  {
   "cell_type": "code",
   "execution_count": 14,
   "metadata": {},
   "outputs": [
    {
     "name": "stderr",
     "output_type": "stream",
     "text": [
      "/home/miguel/miniconda3/envs/ironhack_env/lib/python3.7/site-packages/ipykernel_launcher.py:14: SettingWithCopyWarning: \n",
      "A value is trying to be set on a copy of a slice from a DataFrame\n",
      "\n",
      "See the caveats in the documentation: http://pandas.pydata.org/pandas-docs/stable/indexing.html#indexing-view-versus-copy\n",
      "  \n"
     ]
    }
   ],
   "source": [
    "### Lets perform the bonds projection:\n",
    "\n",
    "for x in range(total_assets):\n",
    "\n",
    "    maturity = int(assets_mod.iloc[x][\"YRS_TO_MAT\"])\n",
    "\n",
    "    aux_df = pd.DataFrame({'PLAN':assets_mod.iloc[x][\"PLAN\"],\n",
    "                      'ISIN':assets_mod.iloc[x][\"ISIN\"],\n",
    "                      'VALOR':assets_mod.iloc[x][\"VALOR\"],\n",
    "                      'COUPON':[assets_mod.iloc[x][\"NOM\"] * 0.01 * assets_mod.iloc[x][\"CUPON\"] for i in range(maturity)],\n",
    "                      'PRINCIPAL': 0,\n",
    "                      'YEAR': [2021+i for i in range(maturity)]})\n",
    "    \n",
    "    aux_df[\"PRINCIPAL\"][maturity-1] = assets_mod.iloc[x][\"NOM\"]\n",
    "    \n",
    "    cf_projection = cf_projection.append(aux_df)"
   ]
  },
  {
   "cell_type": "code",
   "execution_count": 15,
   "metadata": {},
   "outputs": [
    {
     "data": {
      "text/html": [
       "<div>\n",
       "<style scoped>\n",
       "    .dataframe tbody tr th:only-of-type {\n",
       "        vertical-align: middle;\n",
       "    }\n",
       "\n",
       "    .dataframe tbody tr th {\n",
       "        vertical-align: top;\n",
       "    }\n",
       "\n",
       "    .dataframe thead th {\n",
       "        text-align: right;\n",
       "    }\n",
       "</style>\n",
       "<table border=\"1\" class=\"dataframe\">\n",
       "  <thead>\n",
       "    <tr style=\"text-align: right;\">\n",
       "      <th></th>\n",
       "      <th>PLAN</th>\n",
       "      <th>ISIN</th>\n",
       "      <th>VALOR</th>\n",
       "      <th>COUPON</th>\n",
       "      <th>PRINCIPAL</th>\n",
       "      <th>YEAR</th>\n",
       "    </tr>\n",
       "  </thead>\n",
       "  <tbody>\n",
       "    <tr>\n",
       "      <th>0</th>\n",
       "      <td>u101</td>\n",
       "      <td>ES0282102005</td>\n",
       "      <td>UNIVERSIDAD DE VALENCIA  6,6%  15/12/2022</td>\n",
       "      <td>1.983340e+05</td>\n",
       "      <td>0</td>\n",
       "      <td>2021</td>\n",
       "    </tr>\n",
       "    <tr>\n",
       "      <th>1</th>\n",
       "      <td>u101</td>\n",
       "      <td>ES0282102005</td>\n",
       "      <td>UNIVERSIDAD DE VALENCIA  6,6%  15/12/2022</td>\n",
       "      <td>1.983340e+05</td>\n",
       "      <td>3005060</td>\n",
       "      <td>2022</td>\n",
       "    </tr>\n",
       "    <tr>\n",
       "      <th>0</th>\n",
       "      <td>u101</td>\n",
       "      <td>DE0001142552</td>\n",
       "      <td>BUNDESREPUB. DEUTSCHLAND  0%  04/01/2022</td>\n",
       "      <td>0.000000e+00</td>\n",
       "      <td>0</td>\n",
       "      <td>2021</td>\n",
       "    </tr>\n",
       "    <tr>\n",
       "      <th>1</th>\n",
       "      <td>u101</td>\n",
       "      <td>DE0001142552</td>\n",
       "      <td>BUNDESREPUB. DEUTSCHLAND  0%  04/01/2022</td>\n",
       "      <td>0.000000e+00</td>\n",
       "      <td>3000000</td>\n",
       "      <td>2022</td>\n",
       "    </tr>\n",
       "    <tr>\n",
       "      <th>0</th>\n",
       "      <td>u101</td>\n",
       "      <td>IT0001247342</td>\n",
       "      <td>BUONI POLIENNALI STRIP  0%  01/11/2024</td>\n",
       "      <td>0.000000e+00</td>\n",
       "      <td>0</td>\n",
       "      <td>2021</td>\n",
       "    </tr>\n",
       "    <tr>\n",
       "      <th>1</th>\n",
       "      <td>u101</td>\n",
       "      <td>IT0001247342</td>\n",
       "      <td>BUONI POLIENNALI STRIP  0%  01/11/2024</td>\n",
       "      <td>0.000000e+00</td>\n",
       "      <td>0</td>\n",
       "      <td>2022</td>\n",
       "    </tr>\n",
       "    <tr>\n",
       "      <th>2</th>\n",
       "      <td>u101</td>\n",
       "      <td>IT0001247342</td>\n",
       "      <td>BUONI POLIENNALI STRIP  0%  01/11/2024</td>\n",
       "      <td>0.000000e+00</td>\n",
       "      <td>0</td>\n",
       "      <td>2023</td>\n",
       "    </tr>\n",
       "    <tr>\n",
       "      <th>3</th>\n",
       "      <td>u101</td>\n",
       "      <td>IT0001247342</td>\n",
       "      <td>BUONI POLIENNALI STRIP  0%  01/11/2024</td>\n",
       "      <td>0.000000e+00</td>\n",
       "      <td>400000</td>\n",
       "      <td>2024</td>\n",
       "    </tr>\n",
       "    <tr>\n",
       "      <th>0</th>\n",
       "      <td>u101</td>\n",
       "      <td>FR0000570996</td>\n",
       "      <td>FRANCE O.A.T. STRIP  0%  25/04/2021</td>\n",
       "      <td>0.000000e+00</td>\n",
       "      <td>5100000</td>\n",
       "      <td>2021</td>\n",
       "    </tr>\n",
       "    <tr>\n",
       "      <th>0</th>\n",
       "      <td>u101</td>\n",
       "      <td>IT0004848435</td>\n",
       "      <td>ITALY BTPS HYBRID</td>\n",
       "      <td>0.000000e+00</td>\n",
       "      <td>0</td>\n",
       "      <td>2021</td>\n",
       "    </tr>\n",
       "    <tr>\n",
       "      <th>1</th>\n",
       "      <td>u101</td>\n",
       "      <td>IT0004848435</td>\n",
       "      <td>ITALY BTPS HYBRID</td>\n",
       "      <td>0.000000e+00</td>\n",
       "      <td>0</td>\n",
       "      <td>2022</td>\n",
       "    </tr>\n",
       "    <tr>\n",
       "      <th>2</th>\n",
       "      <td>u101</td>\n",
       "      <td>IT0004848435</td>\n",
       "      <td>ITALY BTPS HYBRID</td>\n",
       "      <td>0.000000e+00</td>\n",
       "      <td>565000</td>\n",
       "      <td>2023</td>\n",
       "    </tr>\n",
       "    <tr>\n",
       "      <th>0</th>\n",
       "      <td>u102</td>\n",
       "      <td>ES0213469580</td>\n",
       "      <td>EUROPEAN INVESTMENT BANK  8,5%  17/06/2021</td>\n",
       "      <td>1.788011e+05</td>\n",
       "      <td>2103542</td>\n",
       "      <td>2021</td>\n",
       "    </tr>\n",
       "    <tr>\n",
       "      <th>0</th>\n",
       "      <td>u102</td>\n",
       "      <td>XS0105656267</td>\n",
       "      <td>BAYER HYPO- VEREINSBANK  5%  21/12/2029</td>\n",
       "      <td>7.600000e+05</td>\n",
       "      <td>0</td>\n",
       "      <td>2021</td>\n",
       "    </tr>\n",
       "    <tr>\n",
       "      <th>1</th>\n",
       "      <td>u102</td>\n",
       "      <td>XS0105656267</td>\n",
       "      <td>BAYER HYPO- VEREINSBANK  5%  21/12/2029</td>\n",
       "      <td>7.600000e+05</td>\n",
       "      <td>0</td>\n",
       "      <td>2022</td>\n",
       "    </tr>\n",
       "    <tr>\n",
       "      <th>2</th>\n",
       "      <td>u102</td>\n",
       "      <td>XS0105656267</td>\n",
       "      <td>BAYER HYPO- VEREINSBANK  5%  21/12/2029</td>\n",
       "      <td>7.600000e+05</td>\n",
       "      <td>0</td>\n",
       "      <td>2023</td>\n",
       "    </tr>\n",
       "    <tr>\n",
       "      <th>3</th>\n",
       "      <td>u102</td>\n",
       "      <td>XS0105656267</td>\n",
       "      <td>BAYER HYPO- VEREINSBANK  5%  21/12/2029</td>\n",
       "      <td>7.600000e+05</td>\n",
       "      <td>0</td>\n",
       "      <td>2024</td>\n",
       "    </tr>\n",
       "    <tr>\n",
       "      <th>4</th>\n",
       "      <td>u102</td>\n",
       "      <td>XS0105656267</td>\n",
       "      <td>BAYER HYPO- VEREINSBANK  5%  21/12/2029</td>\n",
       "      <td>7.600000e+05</td>\n",
       "      <td>0</td>\n",
       "      <td>2025</td>\n",
       "    </tr>\n",
       "    <tr>\n",
       "      <th>5</th>\n",
       "      <td>u102</td>\n",
       "      <td>XS0105656267</td>\n",
       "      <td>BAYER HYPO- VEREINSBANK  5%  21/12/2029</td>\n",
       "      <td>7.600000e+05</td>\n",
       "      <td>0</td>\n",
       "      <td>2026</td>\n",
       "    </tr>\n",
       "    <tr>\n",
       "      <th>6</th>\n",
       "      <td>u102</td>\n",
       "      <td>XS0105656267</td>\n",
       "      <td>BAYER HYPO- VEREINSBANK  5%  21/12/2029</td>\n",
       "      <td>7.600000e+05</td>\n",
       "      <td>0</td>\n",
       "      <td>2027</td>\n",
       "    </tr>\n",
       "    <tr>\n",
       "      <th>7</th>\n",
       "      <td>u102</td>\n",
       "      <td>XS0105656267</td>\n",
       "      <td>BAYER HYPO- VEREINSBANK  5%  21/12/2029</td>\n",
       "      <td>7.600000e+05</td>\n",
       "      <td>0</td>\n",
       "      <td>2028</td>\n",
       "    </tr>\n",
       "    <tr>\n",
       "      <th>8</th>\n",
       "      <td>u102</td>\n",
       "      <td>XS0105656267</td>\n",
       "      <td>BAYER HYPO- VEREINSBANK  5%  21/12/2029</td>\n",
       "      <td>7.600000e+05</td>\n",
       "      <td>15200000</td>\n",
       "      <td>2029</td>\n",
       "    </tr>\n",
       "    <tr>\n",
       "      <th>0</th>\n",
       "      <td>u102</td>\n",
       "      <td>XS0105174352</td>\n",
       "      <td>BAYER HYPO- VEREINSBANK  9%  13/12/2024</td>\n",
       "      <td>1.080000e+06</td>\n",
       "      <td>0</td>\n",
       "      <td>2021</td>\n",
       "    </tr>\n",
       "    <tr>\n",
       "      <th>1</th>\n",
       "      <td>u102</td>\n",
       "      <td>XS0105174352</td>\n",
       "      <td>BAYER HYPO- VEREINSBANK  9%  13/12/2024</td>\n",
       "      <td>1.080000e+06</td>\n",
       "      <td>0</td>\n",
       "      <td>2022</td>\n",
       "    </tr>\n",
       "    <tr>\n",
       "      <th>2</th>\n",
       "      <td>u102</td>\n",
       "      <td>XS0105174352</td>\n",
       "      <td>BAYER HYPO- VEREINSBANK  9%  13/12/2024</td>\n",
       "      <td>1.080000e+06</td>\n",
       "      <td>0</td>\n",
       "      <td>2023</td>\n",
       "    </tr>\n",
       "    <tr>\n",
       "      <th>3</th>\n",
       "      <td>u102</td>\n",
       "      <td>XS0105174352</td>\n",
       "      <td>BAYER HYPO- VEREINSBANK  9%  13/12/2024</td>\n",
       "      <td>1.080000e+06</td>\n",
       "      <td>12000000</td>\n",
       "      <td>2024</td>\n",
       "    </tr>\n",
       "    <tr>\n",
       "      <th>0</th>\n",
       "      <td>u102</td>\n",
       "      <td>XS0095166897</td>\n",
       "      <td>STATOILHYDRO ASA  7,15%  26/03/2029</td>\n",
       "      <td>1.430000e+06</td>\n",
       "      <td>0</td>\n",
       "      <td>2021</td>\n",
       "    </tr>\n",
       "    <tr>\n",
       "      <th>1</th>\n",
       "      <td>u102</td>\n",
       "      <td>XS0095166897</td>\n",
       "      <td>STATOILHYDRO ASA  7,15%  26/03/2029</td>\n",
       "      <td>1.430000e+06</td>\n",
       "      <td>0</td>\n",
       "      <td>2022</td>\n",
       "    </tr>\n",
       "    <tr>\n",
       "      <th>2</th>\n",
       "      <td>u102</td>\n",
       "      <td>XS0095166897</td>\n",
       "      <td>STATOILHYDRO ASA  7,15%  26/03/2029</td>\n",
       "      <td>1.430000e+06</td>\n",
       "      <td>0</td>\n",
       "      <td>2023</td>\n",
       "    </tr>\n",
       "    <tr>\n",
       "      <th>3</th>\n",
       "      <td>u102</td>\n",
       "      <td>XS0095166897</td>\n",
       "      <td>STATOILHYDRO ASA  7,15%  26/03/2029</td>\n",
       "      <td>1.430000e+06</td>\n",
       "      <td>0</td>\n",
       "      <td>2024</td>\n",
       "    </tr>\n",
       "  </tbody>\n",
       "</table>\n",
       "</div>"
      ],
      "text/plain": [
       "   PLAN          ISIN                                       VALOR  \\\n",
       "0  u101  ES0282102005   UNIVERSIDAD DE VALENCIA  6,6%  15/12/2022   \n",
       "1  u101  ES0282102005   UNIVERSIDAD DE VALENCIA  6,6%  15/12/2022   \n",
       "0  u101  DE0001142552    BUNDESREPUB. DEUTSCHLAND  0%  04/01/2022   \n",
       "1  u101  DE0001142552    BUNDESREPUB. DEUTSCHLAND  0%  04/01/2022   \n",
       "0  u101  IT0001247342      BUONI POLIENNALI STRIP  0%  01/11/2024   \n",
       "1  u101  IT0001247342      BUONI POLIENNALI STRIP  0%  01/11/2024   \n",
       "2  u101  IT0001247342      BUONI POLIENNALI STRIP  0%  01/11/2024   \n",
       "3  u101  IT0001247342      BUONI POLIENNALI STRIP  0%  01/11/2024   \n",
       "0  u101  FR0000570996         FRANCE O.A.T. STRIP  0%  25/04/2021   \n",
       "0  u101  IT0004848435                           ITALY BTPS HYBRID   \n",
       "1  u101  IT0004848435                           ITALY BTPS HYBRID   \n",
       "2  u101  IT0004848435                           ITALY BTPS HYBRID   \n",
       "0  u102  ES0213469580  EUROPEAN INVESTMENT BANK  8,5%  17/06/2021   \n",
       "0  u102  XS0105656267     BAYER HYPO- VEREINSBANK  5%  21/12/2029   \n",
       "1  u102  XS0105656267     BAYER HYPO- VEREINSBANK  5%  21/12/2029   \n",
       "2  u102  XS0105656267     BAYER HYPO- VEREINSBANK  5%  21/12/2029   \n",
       "3  u102  XS0105656267     BAYER HYPO- VEREINSBANK  5%  21/12/2029   \n",
       "4  u102  XS0105656267     BAYER HYPO- VEREINSBANK  5%  21/12/2029   \n",
       "5  u102  XS0105656267     BAYER HYPO- VEREINSBANK  5%  21/12/2029   \n",
       "6  u102  XS0105656267     BAYER HYPO- VEREINSBANK  5%  21/12/2029   \n",
       "7  u102  XS0105656267     BAYER HYPO- VEREINSBANK  5%  21/12/2029   \n",
       "8  u102  XS0105656267     BAYER HYPO- VEREINSBANK  5%  21/12/2029   \n",
       "0  u102  XS0105174352     BAYER HYPO- VEREINSBANK  9%  13/12/2024   \n",
       "1  u102  XS0105174352     BAYER HYPO- VEREINSBANK  9%  13/12/2024   \n",
       "2  u102  XS0105174352     BAYER HYPO- VEREINSBANK  9%  13/12/2024   \n",
       "3  u102  XS0105174352     BAYER HYPO- VEREINSBANK  9%  13/12/2024   \n",
       "0  u102  XS0095166897         STATOILHYDRO ASA  7,15%  26/03/2029   \n",
       "1  u102  XS0095166897         STATOILHYDRO ASA  7,15%  26/03/2029   \n",
       "2  u102  XS0095166897         STATOILHYDRO ASA  7,15%  26/03/2029   \n",
       "3  u102  XS0095166897         STATOILHYDRO ASA  7,15%  26/03/2029   \n",
       "\n",
       "         COUPON PRINCIPAL  YEAR  \n",
       "0  1.983340e+05         0  2021  \n",
       "1  1.983340e+05   3005060  2022  \n",
       "0  0.000000e+00         0  2021  \n",
       "1  0.000000e+00   3000000  2022  \n",
       "0  0.000000e+00         0  2021  \n",
       "1  0.000000e+00         0  2022  \n",
       "2  0.000000e+00         0  2023  \n",
       "3  0.000000e+00    400000  2024  \n",
       "0  0.000000e+00   5100000  2021  \n",
       "0  0.000000e+00         0  2021  \n",
       "1  0.000000e+00         0  2022  \n",
       "2  0.000000e+00    565000  2023  \n",
       "0  1.788011e+05   2103542  2021  \n",
       "0  7.600000e+05         0  2021  \n",
       "1  7.600000e+05         0  2022  \n",
       "2  7.600000e+05         0  2023  \n",
       "3  7.600000e+05         0  2024  \n",
       "4  7.600000e+05         0  2025  \n",
       "5  7.600000e+05         0  2026  \n",
       "6  7.600000e+05         0  2027  \n",
       "7  7.600000e+05         0  2028  \n",
       "8  7.600000e+05  15200000  2029  \n",
       "0  1.080000e+06         0  2021  \n",
       "1  1.080000e+06         0  2022  \n",
       "2  1.080000e+06         0  2023  \n",
       "3  1.080000e+06  12000000  2024  \n",
       "0  1.430000e+06         0  2021  \n",
       "1  1.430000e+06         0  2022  \n",
       "2  1.430000e+06         0  2023  \n",
       "3  1.430000e+06         0  2024  "
      ]
     },
     "execution_count": 15,
     "metadata": {},
     "output_type": "execute_result"
    }
   ],
   "source": [
    "cf_projection.head(30)"
   ]
  },
  {
   "cell_type": "code",
   "execution_count": 16,
   "metadata": {},
   "outputs": [],
   "source": [
    "cf_projection[\"CF_ASSET\"] = cf_projection[\"COUPON\"] + cf_projection[\"PRINCIPAL\"]"
   ]
  },
  {
   "cell_type": "code",
   "execution_count": 17,
   "metadata": {},
   "outputs": [
    {
     "data": {
      "text/html": [
       "<div>\n",
       "<style scoped>\n",
       "    .dataframe tbody tr th:only-of-type {\n",
       "        vertical-align: middle;\n",
       "    }\n",
       "\n",
       "    .dataframe tbody tr th {\n",
       "        vertical-align: top;\n",
       "    }\n",
       "\n",
       "    .dataframe thead th {\n",
       "        text-align: right;\n",
       "    }\n",
       "</style>\n",
       "<table border=\"1\" class=\"dataframe\">\n",
       "  <thead>\n",
       "    <tr style=\"text-align: right;\">\n",
       "      <th></th>\n",
       "      <th>PLAN</th>\n",
       "      <th>YEAR</th>\n",
       "      <th>COUPON</th>\n",
       "      <th>PRINCIPAL</th>\n",
       "      <th>CF_ASSET</th>\n",
       "    </tr>\n",
       "  </thead>\n",
       "  <tbody>\n",
       "    <tr>\n",
       "      <th>0</th>\n",
       "      <td>u101</td>\n",
       "      <td>2021</td>\n",
       "      <td>1.983340e+05</td>\n",
       "      <td>5100000</td>\n",
       "      <td>5.298334e+06</td>\n",
       "    </tr>\n",
       "    <tr>\n",
       "      <th>1</th>\n",
       "      <td>u101</td>\n",
       "      <td>2022</td>\n",
       "      <td>1.983340e+05</td>\n",
       "      <td>6005060</td>\n",
       "      <td>6.203394e+06</td>\n",
       "    </tr>\n",
       "    <tr>\n",
       "      <th>2</th>\n",
       "      <td>u101</td>\n",
       "      <td>2023</td>\n",
       "      <td>0.000000e+00</td>\n",
       "      <td>565000</td>\n",
       "      <td>5.650000e+05</td>\n",
       "    </tr>\n",
       "    <tr>\n",
       "      <th>3</th>\n",
       "      <td>u101</td>\n",
       "      <td>2024</td>\n",
       "      <td>0.000000e+00</td>\n",
       "      <td>400000</td>\n",
       "      <td>4.000000e+05</td>\n",
       "    </tr>\n",
       "    <tr>\n",
       "      <th>4</th>\n",
       "      <td>u102</td>\n",
       "      <td>2021</td>\n",
       "      <td>2.243757e+07</td>\n",
       "      <td>15908542</td>\n",
       "      <td>3.834611e+07</td>\n",
       "    </tr>\n",
       "  </tbody>\n",
       "</table>\n",
       "</div>"
      ],
      "text/plain": [
       "   PLAN  YEAR        COUPON  PRINCIPAL      CF_ASSET\n",
       "0  u101  2021  1.983340e+05    5100000  5.298334e+06\n",
       "1  u101  2022  1.983340e+05    6005060  6.203394e+06\n",
       "2  u101  2023  0.000000e+00     565000  5.650000e+05\n",
       "3  u101  2024  0.000000e+00     400000  4.000000e+05\n",
       "4  u102  2021  2.243757e+07   15908542  3.834611e+07"
      ]
     },
     "execution_count": 17,
     "metadata": {},
     "output_type": "execute_result"
    }
   ],
   "source": [
    "cf_assets= cf_projection.groupby([\"PLAN\",\"YEAR\"], as_index=False).agg({\"COUPON\":\"sum\",\"PRINCIPAL\":\"sum\",\"CF_ASSET\":\"sum\"})\n",
    "cf_assets.head()"
   ]
  },
  {
   "cell_type": "code",
   "execution_count": 18,
   "metadata": {},
   "outputs": [
    {
     "data": {
      "text/plain": [
       "array(['u101', 'u102', 'u103', 'u104', 'u105', 'u106', 'u107', 'u108',\n",
       "       'u109', 'u110', 'u114', 'u119', 'u120', 'u121', 'u125', 'u130',\n",
       "       'u201', 'u202', 'u206', 'u207', 'u208', 'u210', 'u215', 'u218',\n",
       "       'u220', 'u221', 'u222', 'u223', 'u225', 'u228', 'u229', 'u230',\n",
       "       'u231', 'u232', 'u301', 'u302', 'u303', 'u304', 'u305', 'u308',\n",
       "       'u310', 'u311', 'u401'], dtype=object)"
      ]
     },
     "execution_count": 18,
     "metadata": {},
     "output_type": "execute_result"
    }
   ],
   "source": [
    "cf_assets[\"PLAN\"].unique()"
   ]
  },
  {
   "cell_type": "code",
   "execution_count": 19,
   "metadata": {},
   "outputs": [
    {
     "data": {
      "text/html": [
       "<div>\n",
       "<style scoped>\n",
       "    .dataframe tbody tr th:only-of-type {\n",
       "        vertical-align: middle;\n",
       "    }\n",
       "\n",
       "    .dataframe tbody tr th {\n",
       "        vertical-align: top;\n",
       "    }\n",
       "\n",
       "    .dataframe thead th {\n",
       "        text-align: right;\n",
       "    }\n",
       "</style>\n",
       "<table border=\"1\" class=\"dataframe\">\n",
       "  <thead>\n",
       "    <tr style=\"text-align: right;\">\n",
       "      <th></th>\n",
       "      <th>PLAN</th>\n",
       "      <th>YEAR</th>\n",
       "      <th>COUPON</th>\n",
       "      <th>PRINCIPAL</th>\n",
       "      <th>CF_ASSET</th>\n",
       "    </tr>\n",
       "  </thead>\n",
       "  <tbody>\n",
       "    <tr>\n",
       "      <th>313</th>\n",
       "      <td>u125</td>\n",
       "      <td>2021</td>\n",
       "      <td>19623989.3</td>\n",
       "      <td>58404000</td>\n",
       "      <td>78027989.3</td>\n",
       "    </tr>\n",
       "    <tr>\n",
       "      <th>314</th>\n",
       "      <td>u125</td>\n",
       "      <td>2022</td>\n",
       "      <td>17631174.4</td>\n",
       "      <td>90832000</td>\n",
       "      <td>108463174.4</td>\n",
       "    </tr>\n",
       "    <tr>\n",
       "      <th>315</th>\n",
       "      <td>u125</td>\n",
       "      <td>2023</td>\n",
       "      <td>14663740.5</td>\n",
       "      <td>95215000</td>\n",
       "      <td>109878740.5</td>\n",
       "    </tr>\n",
       "    <tr>\n",
       "      <th>316</th>\n",
       "      <td>u125</td>\n",
       "      <td>2024</td>\n",
       "      <td>12044078.5</td>\n",
       "      <td>97791000</td>\n",
       "      <td>109835078.5</td>\n",
       "    </tr>\n",
       "    <tr>\n",
       "      <th>317</th>\n",
       "      <td>u125</td>\n",
       "      <td>2025</td>\n",
       "      <td>9258446.5</td>\n",
       "      <td>73764000</td>\n",
       "      <td>83022446.5</td>\n",
       "    </tr>\n",
       "  </tbody>\n",
       "</table>\n",
       "</div>"
      ],
      "text/plain": [
       "     PLAN  YEAR      COUPON  PRINCIPAL     CF_ASSET\n",
       "313  u125  2021  19623989.3   58404000   78027989.3\n",
       "314  u125  2022  17631174.4   90832000  108463174.4\n",
       "315  u125  2023  14663740.5   95215000  109878740.5\n",
       "316  u125  2024  12044078.5   97791000  109835078.5\n",
       "317  u125  2025   9258446.5   73764000   83022446.5"
      ]
     },
     "execution_count": 19,
     "metadata": {},
     "output_type": "execute_result"
    }
   ],
   "source": [
    "cf125 =cf_assets[cf_assets[\"PLAN\"] == \"u125\"]\n",
    "cf125.head()"
   ]
  },
  {
   "cell_type": "code",
   "execution_count": 20,
   "metadata": {},
   "outputs": [
    {
     "data": {
      "image/png": "[encoded data removed]",
      "text/plain": [
       "<Figure size 432x288 with 1 Axes>"
      ]
     },
     "metadata": {
      "needs_background": "light"
     },
     "output_type": "display_data"
    }
   ],
   "source": [
    "fig = plt.figure()\n",
    "ax = fig.add_axes([0,0,1,1])\n",
    "ax.bar(cf125[\"YEAR\"],cf125[\"CF_ASSET\"])\n",
    "plt.show()"
   ]
  },
  {
   "cell_type": "markdown",
   "metadata": {},
   "source": [
    "### *** 2.- Liaibilities Cash Flow preparation ***"
   ]
  },
  {
   "cell_type": "code",
   "execution_count": 21,
   "metadata": {},
   "outputs": [],
   "source": [
    "cf_liabs.rename(columns={\"group\":\"PLAN\",\"t_to\": \"YEAR\",\"l_cflow_rp\": \"CF_LIAB\"}, inplace = True)"
   ]
  },
  {
   "cell_type": "code",
   "execution_count": 22,
   "metadata": {},
   "outputs": [
    {
     "data": {
      "text/html": [
       "<div>\n",
       "<style scoped>\n",
       "    .dataframe tbody tr th:only-of-type {\n",
       "        vertical-align: middle;\n",
       "    }\n",
       "\n",
       "    .dataframe tbody tr th {\n",
       "        vertical-align: top;\n",
       "    }\n",
       "\n",
       "    .dataframe thead th {\n",
       "        text-align: right;\n",
       "    }\n",
       "</style>\n",
       "<table border=\"1\" class=\"dataframe\">\n",
       "  <thead>\n",
       "    <tr style=\"text-align: right;\">\n",
       "      <th></th>\n",
       "      <th>PLAN</th>\n",
       "      <th>YEAR</th>\n",
       "      <th>CF_LIAB</th>\n",
       "    </tr>\n",
       "  </thead>\n",
       "  <tbody>\n",
       "    <tr>\n",
       "      <th>0</th>\n",
       "      <td>u101</td>\n",
       "      <td>0</td>\n",
       "      <td>0.000000</td>\n",
       "    </tr>\n",
       "    <tr>\n",
       "      <th>1</th>\n",
       "      <td>u101</td>\n",
       "      <td>1</td>\n",
       "      <td>-2489.386711</td>\n",
       "    </tr>\n",
       "    <tr>\n",
       "      <th>2</th>\n",
       "      <td>u101</td>\n",
       "      <td>2</td>\n",
       "      <td>-1079.130255</td>\n",
       "    </tr>\n",
       "    <tr>\n",
       "      <th>3</th>\n",
       "      <td>u101</td>\n",
       "      <td>3</td>\n",
       "      <td>-418.506211</td>\n",
       "    </tr>\n",
       "    <tr>\n",
       "      <th>4</th>\n",
       "      <td>u101</td>\n",
       "      <td>4</td>\n",
       "      <td>-154.599644</td>\n",
       "    </tr>\n",
       "  </tbody>\n",
       "</table>\n",
       "</div>"
      ],
      "text/plain": [
       "   PLAN  YEAR      CF_LIAB\n",
       "0  u101     0     0.000000\n",
       "1  u101     1 -2489.386711\n",
       "2  u101     2 -1079.130255\n",
       "3  u101     3  -418.506211\n",
       "4  u101     4  -154.599644"
      ]
     },
     "execution_count": 22,
     "metadata": {},
     "output_type": "execute_result"
    }
   ],
   "source": [
    "cf_liabs.head()"
   ]
  },
  {
   "cell_type": "code",
   "execution_count": 23,
   "metadata": {},
   "outputs": [],
   "source": [
    "cf_liabs['CF_LIAB'] =cf_liabs['CF_LIAB'] * - 1000"
   ]
  },
  {
   "cell_type": "code",
   "execution_count": 24,
   "metadata": {},
   "outputs": [
    {
     "data": {
      "text/html": [
       "<div>\n",
       "<style scoped>\n",
       "    .dataframe tbody tr th:only-of-type {\n",
       "        vertical-align: middle;\n",
       "    }\n",
       "\n",
       "    .dataframe tbody tr th {\n",
       "        vertical-align: top;\n",
       "    }\n",
       "\n",
       "    .dataframe thead th {\n",
       "        text-align: right;\n",
       "    }\n",
       "</style>\n",
       "<table border=\"1\" class=\"dataframe\">\n",
       "  <thead>\n",
       "    <tr style=\"text-align: right;\">\n",
       "      <th></th>\n",
       "      <th>PLAN</th>\n",
       "      <th>YEAR</th>\n",
       "      <th>CF_LIAB</th>\n",
       "    </tr>\n",
       "  </thead>\n",
       "  <tbody>\n",
       "    <tr>\n",
       "      <th>0</th>\n",
       "      <td>u101</td>\n",
       "      <td>0</td>\n",
       "      <td>-0.000000e+00</td>\n",
       "    </tr>\n",
       "    <tr>\n",
       "      <th>1</th>\n",
       "      <td>u101</td>\n",
       "      <td>1</td>\n",
       "      <td>2.489387e+06</td>\n",
       "    </tr>\n",
       "    <tr>\n",
       "      <th>2</th>\n",
       "      <td>u101</td>\n",
       "      <td>2</td>\n",
       "      <td>1.079130e+06</td>\n",
       "    </tr>\n",
       "    <tr>\n",
       "      <th>3</th>\n",
       "      <td>u101</td>\n",
       "      <td>3</td>\n",
       "      <td>4.185062e+05</td>\n",
       "    </tr>\n",
       "    <tr>\n",
       "      <th>4</th>\n",
       "      <td>u101</td>\n",
       "      <td>4</td>\n",
       "      <td>1.545996e+05</td>\n",
       "    </tr>\n",
       "  </tbody>\n",
       "</table>\n",
       "</div>"
      ],
      "text/plain": [
       "   PLAN  YEAR       CF_LIAB\n",
       "0  u101     0 -0.000000e+00\n",
       "1  u101     1  2.489387e+06\n",
       "2  u101     2  1.079130e+06\n",
       "3  u101     3  4.185062e+05\n",
       "4  u101     4  1.545996e+05"
      ]
     },
     "execution_count": 24,
     "metadata": {},
     "output_type": "execute_result"
    }
   ],
   "source": [
    "cf_liabs.head()"
   ]
  },
  {
   "cell_type": "code",
   "execution_count": 25,
   "metadata": {},
   "outputs": [],
   "source": [
    "# Modification in YEAR in order to equalize the info\n",
    "cf_liabs[\"YEAR\"] = cf_liabs[\"YEAR\"] + 2020"
   ]
  },
  {
   "cell_type": "code",
   "execution_count": 26,
   "metadata": {},
   "outputs": [],
   "source": [
    "cf_liabs = cf_liabs[cf_liabs[\"YEAR\"]!=2020]"
   ]
  },
  {
   "cell_type": "code",
   "execution_count": 27,
   "metadata": {},
   "outputs": [
    {
     "data": {
      "text/html": [
       "<div>\n",
       "<style scoped>\n",
       "    .dataframe tbody tr th:only-of-type {\n",
       "        vertical-align: middle;\n",
       "    }\n",
       "\n",
       "    .dataframe tbody tr th {\n",
       "        vertical-align: top;\n",
       "    }\n",
       "\n",
       "    .dataframe thead th {\n",
       "        text-align: right;\n",
       "    }\n",
       "</style>\n",
       "<table border=\"1\" class=\"dataframe\">\n",
       "  <thead>\n",
       "    <tr style=\"text-align: right;\">\n",
       "      <th></th>\n",
       "      <th>PLAN</th>\n",
       "      <th>YEAR</th>\n",
       "      <th>CF_LIAB</th>\n",
       "    </tr>\n",
       "  </thead>\n",
       "  <tbody>\n",
       "    <tr>\n",
       "      <th>733</th>\n",
       "      <td>u125</td>\n",
       "      <td>2021</td>\n",
       "      <td>1.279490e+08</td>\n",
       "    </tr>\n",
       "    <tr>\n",
       "      <th>734</th>\n",
       "      <td>u125</td>\n",
       "      <td>2022</td>\n",
       "      <td>1.044864e+08</td>\n",
       "    </tr>\n",
       "    <tr>\n",
       "      <th>735</th>\n",
       "      <td>u125</td>\n",
       "      <td>2023</td>\n",
       "      <td>8.495336e+07</td>\n",
       "    </tr>\n",
       "    <tr>\n",
       "      <th>736</th>\n",
       "      <td>u125</td>\n",
       "      <td>2024</td>\n",
       "      <td>6.972026e+07</td>\n",
       "    </tr>\n",
       "    <tr>\n",
       "      <th>737</th>\n",
       "      <td>u125</td>\n",
       "      <td>2025</td>\n",
       "      <td>5.709590e+07</td>\n",
       "    </tr>\n",
       "  </tbody>\n",
       "</table>\n",
       "</div>"
      ],
      "text/plain": [
       "     PLAN  YEAR       CF_LIAB\n",
       "733  u125  2021  1.279490e+08\n",
       "734  u125  2022  1.044864e+08\n",
       "735  u125  2023  8.495336e+07\n",
       "736  u125  2024  6.972026e+07\n",
       "737  u125  2025  5.709590e+07"
      ]
     },
     "execution_count": 27,
     "metadata": {},
     "output_type": "execute_result"
    }
   ],
   "source": [
    "liab125 = cf_liabs[cf_liabs [\"PLAN\"] ==\"u125\"]\n",
    "liab125.head()"
   ]
  },
  {
   "cell_type": "markdown",
   "metadata": {},
   "source": [
    "### *** 3.- Asset and Liability combination ***"
   ]
  },
  {
   "cell_type": "code",
   "execution_count": 28,
   "metadata": {},
   "outputs": [
    {
     "data": {
      "text/plain": [
       "(2021.0, 2050.0)"
      ]
     },
     "execution_count": 28,
     "metadata": {},
     "output_type": "execute_result"
    },
    {
     "data": {
      "image/png": "[encoded data removed]",
      "text/plain": [
       "<Figure size 432x288 with 1 Axes>"
      ]
     },
     "metadata": {
      "needs_background": "light"
     },
     "output_type": "display_data"
    }
   ],
   "source": [
    "plt.bar(cf125[\"YEAR\"],cf125[\"CF_ASSET\"])\n",
    "plt.plot(liab125[\"YEAR\"],liab125[\"CF_LIAB\"],'g')\n",
    "plt.xlim(2021,2050)"
   ]
  },
  {
   "cell_type": "code",
   "execution_count": 29,
   "metadata": {},
   "outputs": [],
   "source": [
    "cf_combined = cf_assets.merge(cf_liabs, left_on=[\"PLAN\",\"YEAR\"], right_on=[\"PLAN\",\"YEAR\"])"
   ]
  },
  {
   "cell_type": "code",
   "execution_count": 30,
   "metadata": {},
   "outputs": [
    {
     "data": {
      "text/html": [
       "<div>\n",
       "<style scoped>\n",
       "    .dataframe tbody tr th:only-of-type {\n",
       "        vertical-align: middle;\n",
       "    }\n",
       "\n",
       "    .dataframe tbody tr th {\n",
       "        vertical-align: top;\n",
       "    }\n",
       "\n",
       "    .dataframe thead th {\n",
       "        text-align: right;\n",
       "    }\n",
       "</style>\n",
       "<table border=\"1\" class=\"dataframe\">\n",
       "  <thead>\n",
       "    <tr style=\"text-align: right;\">\n",
       "      <th></th>\n",
       "      <th>PLAN</th>\n",
       "      <th>YEAR</th>\n",
       "      <th>COUPON</th>\n",
       "      <th>PRINCIPAL</th>\n",
       "      <th>CF_ASSET</th>\n",
       "      <th>CF_LIAB</th>\n",
       "    </tr>\n",
       "  </thead>\n",
       "  <tbody>\n",
       "    <tr>\n",
       "      <th>0</th>\n",
       "      <td>u101</td>\n",
       "      <td>2021</td>\n",
       "      <td>1.983340e+05</td>\n",
       "      <td>5100000</td>\n",
       "      <td>5.298334e+06</td>\n",
       "      <td>2.489387e+06</td>\n",
       "    </tr>\n",
       "    <tr>\n",
       "      <th>1</th>\n",
       "      <td>u101</td>\n",
       "      <td>2022</td>\n",
       "      <td>1.983340e+05</td>\n",
       "      <td>6005060</td>\n",
       "      <td>6.203394e+06</td>\n",
       "      <td>1.079130e+06</td>\n",
       "    </tr>\n",
       "    <tr>\n",
       "      <th>2</th>\n",
       "      <td>u101</td>\n",
       "      <td>2023</td>\n",
       "      <td>0.000000e+00</td>\n",
       "      <td>565000</td>\n",
       "      <td>5.650000e+05</td>\n",
       "      <td>4.185062e+05</td>\n",
       "    </tr>\n",
       "    <tr>\n",
       "      <th>3</th>\n",
       "      <td>u101</td>\n",
       "      <td>2024</td>\n",
       "      <td>0.000000e+00</td>\n",
       "      <td>400000</td>\n",
       "      <td>4.000000e+05</td>\n",
       "      <td>1.545996e+05</td>\n",
       "    </tr>\n",
       "    <tr>\n",
       "      <th>4</th>\n",
       "      <td>u102</td>\n",
       "      <td>2021</td>\n",
       "      <td>2.243757e+07</td>\n",
       "      <td>15908542</td>\n",
       "      <td>3.834611e+07</td>\n",
       "      <td>7.809456e+07</td>\n",
       "    </tr>\n",
       "  </tbody>\n",
       "</table>\n",
       "</div>"
      ],
      "text/plain": [
       "   PLAN  YEAR        COUPON  PRINCIPAL      CF_ASSET       CF_LIAB\n",
       "0  u101  2021  1.983340e+05    5100000  5.298334e+06  2.489387e+06\n",
       "1  u101  2022  1.983340e+05    6005060  6.203394e+06  1.079130e+06\n",
       "2  u101  2023  0.000000e+00     565000  5.650000e+05  4.185062e+05\n",
       "3  u101  2024  0.000000e+00     400000  4.000000e+05  1.545996e+05\n",
       "4  u102  2021  2.243757e+07   15908542  3.834611e+07  7.809456e+07"
      ]
     },
     "execution_count": 30,
     "metadata": {},
     "output_type": "execute_result"
    }
   ],
   "source": [
    "cf_combined.head()"
   ]
  },
  {
   "cell_type": "code",
   "execution_count": 31,
   "metadata": {},
   "outputs": [
    {
     "data": {
      "text/plain": [
       "array(['u101', 'u102', 'u103', 'u104', 'u105', 'u106', 'u107', 'u108',\n",
       "       'u109', 'u110', 'u120', 'u121', 'u125', 'u130', 'u201', 'u202',\n",
       "       'u206', 'u207', 'u210', 'u215', 'u218', 'u220', 'u221', 'u229',\n",
       "       'u230', 'u231', 'u301', 'u302', 'u303', 'u304', 'u305', 'u310',\n",
       "       'u311'], dtype=object)"
      ]
     },
     "execution_count": 31,
     "metadata": {},
     "output_type": "execute_result"
    }
   ],
   "source": [
    "portfolios = cf_combined[\"PLAN\"].unique()\n",
    "portfolios"
   ]
  },
  {
   "cell_type": "code",
   "execution_count": 32,
   "metadata": {},
   "outputs": [
    {
     "data": {
      "text/html": [
       "<div>\n",
       "<style scoped>\n",
       "    .dataframe tbody tr th:only-of-type {\n",
       "        vertical-align: middle;\n",
       "    }\n",
       "\n",
       "    .dataframe tbody tr th {\n",
       "        vertical-align: top;\n",
       "    }\n",
       "\n",
       "    .dataframe thead th {\n",
       "        text-align: right;\n",
       "    }\n",
       "</style>\n",
       "<table border=\"1\" class=\"dataframe\">\n",
       "  <thead>\n",
       "    <tr style=\"text-align: right;\">\n",
       "      <th></th>\n",
       "      <th>PLAN</th>\n",
       "      <th>YEAR</th>\n",
       "      <th>CF_ASSET</th>\n",
       "      <th>CF_LIAB</th>\n",
       "      <th>CF_CUM_ASSET</th>\n",
       "      <th>CF_CUM_LIAB</th>\n",
       "    </tr>\n",
       "  </thead>\n",
       "  <tbody>\n",
       "  </tbody>\n",
       "</table>\n",
       "</div>"
      ],
      "text/plain": [
       "Empty DataFrame\n",
       "Columns: [PLAN, YEAR, CF_ASSET, CF_LIAB, CF_CUM_ASSET, CF_CUM_LIAB]\n",
       "Index: []"
      ]
     },
     "execution_count": 32,
     "metadata": {},
     "output_type": "execute_result"
    }
   ],
   "source": [
    "cf_complete = pd.DataFrame(columns=['PLAN','YEAR','CF_ASSET','CF_LIAB','CF_CUM_ASSET','CF_CUM_LIAB'])\n",
    "cf_complete"
   ]
  },
  {
   "cell_type": "code",
   "execution_count": 33,
   "metadata": {},
   "outputs": [
    {
     "name": "stderr",
     "output_type": "stream",
     "text": [
      "/home/miguel/miniconda3/envs/ironhack_env/lib/python3.7/site-packages/ipykernel_launcher.py:4: SettingWithCopyWarning: \n",
      "A value is trying to be set on a copy of a slice from a DataFrame.\n",
      "Try using .loc[row_indexer,col_indexer] = value instead\n",
      "\n",
      "See the caveats in the documentation: http://pandas.pydata.org/pandas-docs/stable/indexing.html#indexing-view-versus-copy\n",
      "  after removing the cwd from sys.path.\n",
      "/home/miguel/miniconda3/envs/ironhack_env/lib/python3.7/site-packages/ipykernel_launcher.py:5: SettingWithCopyWarning: \n",
      "A value is trying to be set on a copy of a slice from a DataFrame.\n",
      "Try using .loc[row_indexer,col_indexer] = value instead\n",
      "\n",
      "See the caveats in the documentation: http://pandas.pydata.org/pandas-docs/stable/indexing.html#indexing-view-versus-copy\n",
      "  \"\"\"\n"
     ]
    }
   ],
   "source": [
    "for portfolio in portfolios:\n",
    "    aux_df = cf_combined[cf_combined[\"PLAN\"] == portfolio]\n",
    "    \n",
    "    aux_df['CF_CUM_ASSET'] = aux_df['CF_ASSET'].cumsum()\n",
    "    aux_df['CF_CUM_LIAB'] = aux_df['CF_LIAB'].cumsum()\n",
    "    \n",
    "    cf_complete = cf_complete.append(aux_df, sort=False)"
   ]
  },
  {
   "cell_type": "code",
   "execution_count": 34,
   "metadata": {},
   "outputs": [],
   "source": [
    "cf_complete['GAP'] = cf_complete['CF_ASSET'] - cf_complete['CF_LIAB']\n",
    "cf_complete['CF_CUM'] = cf_complete['CF_CUM_ASSET'] - cf_complete['CF_CUM_LIAB']"
   ]
  },
  {
   "cell_type": "code",
   "execution_count": 35,
   "metadata": {},
   "outputs": [
    {
     "data": {
      "text/plain": [
       "array(['u101', 'u102', 'u103', 'u104', 'u105', 'u106', 'u107', 'u108',\n",
       "       'u109', 'u110', 'u120', 'u121', 'u125', 'u130', 'u201', 'u202',\n",
       "       'u206', 'u207', 'u210', 'u215', 'u218', 'u220', 'u221', 'u229',\n",
       "       'u230', 'u231', 'u301', 'u302', 'u303', 'u304', 'u305', 'u310',\n",
       "       'u311'], dtype=object)"
      ]
     },
     "execution_count": 35,
     "metadata": {},
     "output_type": "execute_result"
    }
   ],
   "source": [
    "portfolios"
   ]
  },
  {
   "cell_type": "code",
   "execution_count": 36,
   "metadata": {},
   "outputs": [],
   "source": [
    "u101 = cf_complete[cf_complete[\"PLAN\"]==\"u101\"]\n",
    "u102 = cf_complete[cf_complete[\"PLAN\"]==\"u102\"]\n",
    "u103 = cf_complete[cf_complete[\"PLAN\"]==\"u103\"]\n",
    "u104 = cf_complete[cf_complete[\"PLAN\"]==\"u104\"]\n",
    "u105 = cf_complete[cf_complete[\"PLAN\"]==\"u105\"]\n",
    "u106 = cf_complete[cf_complete[\"PLAN\"]==\"u106\"]\n",
    "u107 = cf_complete[cf_complete[\"PLAN\"]==\"u107\"]\n",
    "u108 = cf_complete[cf_complete[\"PLAN\"]==\"u108\"]\n",
    "u109 = cf_complete[cf_complete[\"PLAN\"]==\"u109\"]\n",
    "u110 = cf_complete[cf_complete[\"PLAN\"]==\"u110\"]\n",
    "u120 = cf_complete[cf_complete[\"PLAN\"]==\"u120\"]\n",
    "u121 = cf_complete[cf_complete[\"PLAN\"]==\"u121\"]\n",
    "u125 = cf_complete[cf_complete[\"PLAN\"]==\"u125\"]\n",
    "u130 = cf_complete[cf_complete[\"PLAN\"]==\"u130\"]\n",
    "u201 = cf_complete[cf_complete[\"PLAN\"]==\"u201\"]\n",
    "u202 = cf_complete[cf_complete[\"PLAN\"]==\"u202\"]\n",
    "u206 = cf_complete[cf_complete[\"PLAN\"]==\"u206\"]\n",
    "u207 = cf_complete[cf_complete[\"PLAN\"]==\"u207\"]\n",
    "u210 = cf_complete[cf_complete[\"PLAN\"]==\"u210\"]\n",
    "u215 = cf_complete[cf_complete[\"PLAN\"]==\"u215\"]\n",
    "u218 = cf_complete[cf_complete[\"PLAN\"]==\"u218\"]\n",
    "u220 = cf_complete[cf_complete[\"PLAN\"]==\"u220\"]\n",
    "u221 = cf_complete[cf_complete[\"PLAN\"]==\"u221\"]\n",
    "u229 = cf_complete[cf_complete[\"PLAN\"]==\"u229\"]\n",
    "u230 = cf_complete[cf_complete[\"PLAN\"]==\"u230\"]\n",
    "u231 = cf_complete[cf_complete[\"PLAN\"]==\"u231\"]\n",
    "u301 = cf_complete[cf_complete[\"PLAN\"]==\"u301\"]\n",
    "u302 = cf_complete[cf_complete[\"PLAN\"]==\"u302\"]\n",
    "u303 = cf_complete[cf_complete[\"PLAN\"]==\"u303\"]\n",
    "u304 = cf_complete[cf_complete[\"PLAN\"]==\"u304\"]\n",
    "u305 = cf_complete[cf_complete[\"PLAN\"]==\"u305\"]\n",
    "u310 = cf_complete[cf_complete[\"PLAN\"]==\"u310\"]\n",
    "u311 = cf_complete[cf_complete[\"PLAN\"]==\"u311\"]"
   ]
  },
  {
   "cell_type": "code",
   "execution_count": 37,
   "metadata": {},
   "outputs": [
    {
     "data": {
      "text/plain": [
       "(2021.0, 2050.0)"
      ]
     },
     "execution_count": 37,
     "metadata": {},
     "output_type": "execute_result"
    },
    {
     "data": {
      "image/png": "[encoded data removed]",
      "text/plain": [
       "<Figure size 432x288 with 1 Axes>"
      ]
     },
     "metadata": {
      "needs_background": "light"
     },
     "output_type": "display_data"
    }
   ],
   "source": [
    "plt.bar(u125[\"YEAR\"],u125[\"CF_ASSET\"])\n",
    "plt.plot(u125[\"YEAR\"],u125[\"CF_LIAB\"],'g')\n",
    "plt.plot(u125[\"YEAR\"],u125[\"CF_CUM\"],color ='orange')\n",
    "plt.xlim(2021,2050)"
   ]
  },
  {
   "cell_type": "code",
   "execution_count": 39,
   "metadata": {},
   "outputs": [
    {
     "data": {
      "text/plain": [
       "(2021.0, 2050.0)"
      ]
     },
     "execution_count": 39,
     "metadata": {},
     "output_type": "execute_result"
    },
    {
     "data": {
      "image/png": "[encoded data removed]",
      "text/plain": [
       "<Figure size 432x288 with 1 Axes>"
      ]
     },
     "metadata": {
      "needs_background": "light"
     },
     "output_type": "display_data"
    }
   ],
   "source": [
    "plt.bar(u218[\"YEAR\"],u218[\"CF_ASSET\"])\n",
    "plt.plot(u218[\"YEAR\"],u218[\"CF_LIAB\"],'g')\n",
    "plt.plot(u218[\"YEAR\"],u218[\"CF_CUM\"],color ='orange')\n",
    "plt.xlim(2021,2050)"
   ]
  },
  {
   "cell_type": "code",
   "execution_count": 40,
   "metadata": {},
   "outputs": [],
   "source": [
    "def find_nearest(array, value):\n",
    "    array = np.asarray(array)\n",
    "    idx = (np.abs(array - value)).argmin()\n",
    "    return array[idx]"
   ]
  },
  {
   "cell_type": "code",
   "execution_count": 41,
   "metadata": {},
   "outputs": [
    {
     "data": {
      "text/plain": [
       "[2041, 2048, 2042]"
      ]
     },
     "execution_count": 41,
     "metadata": {},
     "output_type": "execute_result"
    }
   ],
   "source": [
    "elegible_years = u210.nlargest(3, ['GAP'])[\"YEAR\"].tolist()\n",
    "elegible_years"
   ]
  },
  {
   "cell_type": "code",
   "execution_count": null,
   "metadata": {},
   "outputs": [],
   "source": []
  },
  {
   "cell_type": "code",
   "execution_count": 42,
   "metadata": {},
   "outputs": [
    {
     "data": {
      "text/plain": [
       "[2024, 2025, 2023]"
      ]
     },
     "execution_count": 42,
     "metadata": {},
     "output_type": "execute_result"
    }
   ],
   "source": [
    "elegible_years = u125.nlargest(3, ['GAP'])[\"YEAR\"].tolist()\n",
    "elegible_years"
   ]
  },
  {
   "cell_type": "code",
   "execution_count": 43,
   "metadata": {},
   "outputs": [
    {
     "data": {
      "text/plain": [
       "[2021, 2027, 2031, 2038, 2034]"
      ]
     },
     "execution_count": 43,
     "metadata": {},
     "output_type": "execute_result"
    }
   ],
   "source": [
    "gap_years = u125.nsmallest(5, ['GAP'])[\"YEAR\"].tolist()\n",
    "gap_years"
   ]
  },
  {
   "cell_type": "code",
   "execution_count": 44,
   "metadata": {},
   "outputs": [
    {
     "data": {
      "text/plain": [
       "[271, 277, 281, 288, 284]"
      ]
     },
     "execution_count": 44,
     "metadata": {},
     "output_type": "execute_result"
    }
   ],
   "source": [
    "u125.nsmallest(5, ['GAP'])[\"YEAR\"].index.tolist()"
   ]
  },
  {
   "cell_type": "code",
   "execution_count": 45,
   "metadata": {},
   "outputs": [
    {
     "data": {
      "text/html": [
       "<div>\n",
       "<style scoped>\n",
       "    .dataframe tbody tr th:only-of-type {\n",
       "        vertical-align: middle;\n",
       "    }\n",
       "\n",
       "    .dataframe tbody tr th {\n",
       "        vertical-align: top;\n",
       "    }\n",
       "\n",
       "    .dataframe thead th {\n",
       "        text-align: right;\n",
       "    }\n",
       "</style>\n",
       "<table border=\"1\" class=\"dataframe\">\n",
       "  <thead>\n",
       "    <tr style=\"text-align: right;\">\n",
       "      <th></th>\n",
       "      <th>PLAN</th>\n",
       "      <th>YEAR</th>\n",
       "      <th>CF_ASSET</th>\n",
       "      <th>CF_LIAB</th>\n",
       "      <th>CF_CUM_ASSET</th>\n",
       "      <th>CF_CUM_LIAB</th>\n",
       "      <th>COUPON</th>\n",
       "      <th>PRINCIPAL</th>\n",
       "      <th>GAP</th>\n",
       "      <th>CF_CUM</th>\n",
       "    </tr>\n",
       "  </thead>\n",
       "  <tbody>\n",
       "    <tr>\n",
       "      <th>271</th>\n",
       "      <td>u125</td>\n",
       "      <td>2021</td>\n",
       "      <td>78027989.3</td>\n",
       "      <td>1.279490e+08</td>\n",
       "      <td>78027989.3</td>\n",
       "      <td>1.279490e+08</td>\n",
       "      <td>19623989.3</td>\n",
       "      <td>58404000.0</td>\n",
       "      <td>-4.992104e+07</td>\n",
       "      <td>-4.992104e+07</td>\n",
       "    </tr>\n",
       "    <tr>\n",
       "      <th>277</th>\n",
       "      <td>u125</td>\n",
       "      <td>2027</td>\n",
       "      <td>32273922.8</td>\n",
       "      <td>3.963812e+07</td>\n",
       "      <td>591868265.3</td>\n",
       "      <td>5.311774e+08</td>\n",
       "      <td>5967922.8</td>\n",
       "      <td>26306000.0</td>\n",
       "      <td>-7.364198e+06</td>\n",
       "      <td>6.069084e+07</td>\n",
       "    </tr>\n",
       "    <tr>\n",
       "      <th>281</th>\n",
       "      <td>u125</td>\n",
       "      <td>2031</td>\n",
       "      <td>13657605.0</td>\n",
       "      <td>1.964791e+07</td>\n",
       "      <td>716141715.3</td>\n",
       "      <td>6.355145e+08</td>\n",
       "      <td>2857605.0</td>\n",
       "      <td>10800000.0</td>\n",
       "      <td>-5.990308e+06</td>\n",
       "      <td>8.062726e+07</td>\n",
       "    </tr>\n",
       "    <tr>\n",
       "      <th>284</th>\n",
       "      <td>u125</td>\n",
       "      <td>2034</td>\n",
       "      <td>6076382.5</td>\n",
       "      <td>1.170054e+07</td>\n",
       "      <td>773668165.3</td>\n",
       "      <td>6.774603e+08</td>\n",
       "      <td>1226382.5</td>\n",
       "      <td>4850000.0</td>\n",
       "      <td>-5.624162e+06</td>\n",
       "      <td>9.620790e+07</td>\n",
       "    </tr>\n",
       "    <tr>\n",
       "      <th>288</th>\n",
       "      <td>u125</td>\n",
       "      <td>2038</td>\n",
       "      <td>509242.5</td>\n",
       "      <td>6.421001e+06</td>\n",
       "      <td>800559585.3</td>\n",
       "      <td>7.089662e+08</td>\n",
       "      <td>509242.5</td>\n",
       "      <td>0.0</td>\n",
       "      <td>-5.911758e+06</td>\n",
       "      <td>9.159335e+07</td>\n",
       "    </tr>\n",
       "  </tbody>\n",
       "</table>\n",
       "</div>"
      ],
      "text/plain": [
       "     PLAN  YEAR    CF_ASSET       CF_LIAB  CF_CUM_ASSET   CF_CUM_LIAB  \\\n",
       "271  u125  2021  78027989.3  1.279490e+08    78027989.3  1.279490e+08   \n",
       "277  u125  2027  32273922.8  3.963812e+07   591868265.3  5.311774e+08   \n",
       "281  u125  2031  13657605.0  1.964791e+07   716141715.3  6.355145e+08   \n",
       "284  u125  2034   6076382.5  1.170054e+07   773668165.3  6.774603e+08   \n",
       "288  u125  2038    509242.5  6.421001e+06   800559585.3  7.089662e+08   \n",
       "\n",
       "         COUPON   PRINCIPAL           GAP        CF_CUM  \n",
       "271  19623989.3  58404000.0 -4.992104e+07 -4.992104e+07  \n",
       "277   5967922.8  26306000.0 -7.364198e+06  6.069084e+07  \n",
       "281   2857605.0  10800000.0 -5.990308e+06  8.062726e+07  \n",
       "284   1226382.5   4850000.0 -5.624162e+06  9.620790e+07  \n",
       "288    509242.5         0.0 -5.911758e+06  9.159335e+07  "
      ]
     },
     "execution_count": 45,
     "metadata": {},
     "output_type": "execute_result"
    }
   ],
   "source": [
    "u125[u125[\"YEAR\"].isin(gap_years)]"
   ]
  },
  {
   "cell_type": "code",
   "execution_count": 46,
   "metadata": {},
   "outputs": [
    {
     "ename": "NameError",
     "evalue": "name 'plan' is not defined",
     "output_type": "error",
     "traceback": [
      "\u001b[0;31m---------------------------------------------------------------------------\u001b[0m",
      "\u001b[0;31mNameError\u001b[0m                                 Traceback (most recent call last)",
      "\u001b[0;32m<ipython-input-46-7873046e0630>\u001b[0m in \u001b[0;36m<module>\u001b[0;34m\u001b[0m\n\u001b[0;32m----> 1\u001b[0;31m \u001b[0mtrial\u001b[0m \u001b[0;34m=\u001b[0m \u001b[0massets_mod\u001b[0m\u001b[0;34m[\u001b[0m\u001b[0mplan\u001b[0m \u001b[0;34m&\u001b[0m \u001b[0mmaturity\u001b[0m\u001b[0;34m]\u001b[0m\u001b[0;34m[\u001b[0m\u001b[0;34m\"NOM\"\u001b[0m\u001b[0;34m]\u001b[0m\u001b[0;34m\u001b[0m\u001b[0;34m\u001b[0m\u001b[0m\n\u001b[0m",
      "\u001b[0;31mNameError\u001b[0m: name 'plan' is not defined"
     ]
    }
   ],
   "source": [
    "trial = assets_mod[plan & maturity][\"NOM\"]"
   ]
  },
  {
   "cell_type": "code",
   "execution_count": 47,
   "metadata": {},
   "outputs": [
    {
     "ename": "NameError",
     "evalue": "name 'trial' is not defined",
     "output_type": "error",
     "traceback": [
      "\u001b[0;31m---------------------------------------------------------------------------\u001b[0m",
      "\u001b[0;31mNameError\u001b[0m                                 Traceback (most recent call last)",
      "\u001b[0;32m<ipython-input-47-989752023d1f>\u001b[0m in \u001b[0;36m<module>\u001b[0;34m\u001b[0m\n\u001b[0;32m----> 1\u001b[0;31m \u001b[0mtarget_asset\u001b[0m \u001b[0;34m=\u001b[0m \u001b[0mfind_nearest\u001b[0m\u001b[0;34m(\u001b[0m\u001b[0mtrial\u001b[0m\u001b[0;34m,\u001b[0m \u001b[0mgoal\u001b[0m\u001b[0;34m)\u001b[0m\u001b[0;34m\u001b[0m\u001b[0;34m\u001b[0m\u001b[0m\n\u001b[0m",
      "\u001b[0;31mNameError\u001b[0m: name 'trial' is not defined"
     ]
    }
   ],
   "source": [
    "target_asset = find_nearest(trial, goal)"
   ]
  },
  {
   "cell_type": "code",
   "execution_count": 48,
   "metadata": {},
   "outputs": [
    {
     "data": {
      "text/html": [
       "<div>\n",
       "<style scoped>\n",
       "    .dataframe tbody tr th:only-of-type {\n",
       "        vertical-align: middle;\n",
       "    }\n",
       "\n",
       "    .dataframe tbody tr th {\n",
       "        vertical-align: top;\n",
       "    }\n",
       "\n",
       "    .dataframe thead th {\n",
       "        text-align: right;\n",
       "    }\n",
       "</style>\n",
       "<table border=\"1\" class=\"dataframe\">\n",
       "  <thead>\n",
       "    <tr style=\"text-align: right;\">\n",
       "      <th></th>\n",
       "      <th>PLAN</th>\n",
       "      <th>ISIN</th>\n",
       "      <th>VALOR</th>\n",
       "      <th>CUPON</th>\n",
       "      <th>FEC_VTO</th>\n",
       "      <th>NOM</th>\n",
       "      <th>YRS_TO_MAT</th>\n",
       "      <th>MATURITY</th>\n",
       "    </tr>\n",
       "  </thead>\n",
       "  <tbody>\n",
       "  </tbody>\n",
       "</table>\n",
       "</div>"
      ],
      "text/plain": [
       "Empty DataFrame\n",
       "Columns: [PLAN, ISIN, VALOR, CUPON, FEC_VTO, NOM, YRS_TO_MAT, MATURITY]\n",
       "Index: []"
      ]
     },
     "execution_count": 48,
     "metadata": {},
     "output_type": "execute_result"
    }
   ],
   "source": [
    "assets_sell = pd.DataFrame(columns=['PLAN','ISIN','VALOR','CUPON','FEC_VTO','NOM','YRS_TO_MAT','MATURITY'])\n",
    "assets_sell"
   ]
  },
  {
   "cell_type": "code",
   "execution_count": 49,
   "metadata": {},
   "outputs": [
    {
     "name": "stderr",
     "output_type": "stream",
     "text": [
      "/home/miguel/miniconda3/envs/ironhack_env/lib/python3.7/site-packages/pandas/core/frame.py:6692: FutureWarning: Sorting because non-concatenation axis is not aligned. A future version\n",
      "of pandas will change to not sort by default.\n",
      "\n",
      "To accept the future behavior, pass 'sort=False'.\n",
      "\n",
      "To retain the current behavior and silence the warning, pass 'sort=True'.\n",
      "\n",
      "  sort=sort)\n"
     ]
    }
   ],
   "source": [
    "for year in elegible_years:\n",
    "    goal = int(u125[u125[\"YEAR\"] == year ][\"GAP\"])\n",
    "    plan = assets_mod[\"PLAN\"]==\"u125\"\n",
    "    maturity = assets_mod[\"MATURITY\"]== year\n",
    "    alternatives = assets_mod[plan & maturity][\"NOM\"]\n",
    "    target_asset = find_nearest(alternatives, goal)\n",
    "    aux_df = assets_mod[plan & maturity][assets_mod[plan & maturity][\"NOM\"] == target_asset]\n",
    "    \n",
    "    assets_sell = assets_sell.append(aux_df)"
   ]
  },
  {
   "cell_type": "code",
   "execution_count": 50,
   "metadata": {},
   "outputs": [
    {
     "data": {
      "text/plain": [
       "82800000.0"
      ]
     },
     "execution_count": 50,
     "metadata": {},
     "output_type": "execute_result"
    }
   ],
   "source": [
    "available_cash = assets_sell[\"NOM\"].sum()\n",
    "available_cash"
   ]
  },
  {
   "cell_type": "code",
   "execution_count": 51,
   "metadata": {},
   "outputs": [
    {
     "data": {
      "text/html": [
       "<div>\n",
       "<style scoped>\n",
       "    .dataframe tbody tr th:only-of-type {\n",
       "        vertical-align: middle;\n",
       "    }\n",
       "\n",
       "    .dataframe tbody tr th {\n",
       "        vertical-align: top;\n",
       "    }\n",
       "\n",
       "    .dataframe thead th {\n",
       "        text-align: right;\n",
       "    }\n",
       "</style>\n",
       "<table border=\"1\" class=\"dataframe\">\n",
       "  <thead>\n",
       "    <tr style=\"text-align: right;\">\n",
       "      <th></th>\n",
       "      <th>CUPON</th>\n",
       "      <th>FEC_VTO</th>\n",
       "      <th>ISIN</th>\n",
       "      <th>MATURITY</th>\n",
       "      <th>NOM</th>\n",
       "      <th>PLAN</th>\n",
       "      <th>VALOR</th>\n",
       "      <th>YRS_TO_MAT</th>\n",
       "    </tr>\n",
       "  </thead>\n",
       "  <tbody>\n",
       "    <tr>\n",
       "      <th>631</th>\n",
       "      <td>3.80</td>\n",
       "      <td>4/30/2024</td>\n",
       "      <td>ES00000124W3</td>\n",
       "      <td>2024</td>\n",
       "      <td>39000000.0</td>\n",
       "      <td>u125</td>\n",
       "      <td>SPGB 3,8% 30/04/2024</td>\n",
       "      <td>4</td>\n",
       "    </tr>\n",
       "    <tr>\n",
       "      <th>597</th>\n",
       "      <td>4.65</td>\n",
       "      <td>7/30/2025</td>\n",
       "      <td>ES00000122E5</td>\n",
       "      <td>2025</td>\n",
       "      <td>26900000.0</td>\n",
       "      <td>u125</td>\n",
       "      <td>ESTADO4,65 0725</td>\n",
       "      <td>5</td>\n",
       "    </tr>\n",
       "    <tr>\n",
       "      <th>612</th>\n",
       "      <td>3.99</td>\n",
       "      <td>1/23/2023</td>\n",
       "      <td>XS0874864860</td>\n",
       "      <td>2023</td>\n",
       "      <td>16900000.0</td>\n",
       "      <td>u125</td>\n",
       "      <td>TEF 3.987% 23/01/2023</td>\n",
       "      <td>3</td>\n",
       "    </tr>\n",
       "  </tbody>\n",
       "</table>\n",
       "</div>"
      ],
      "text/plain": [
       "     CUPON    FEC_VTO          ISIN MATURITY         NOM  PLAN  \\\n",
       "631   3.80  4/30/2024  ES00000124W3     2024  39000000.0  u125   \n",
       "597   4.65  7/30/2025  ES00000122E5     2025  26900000.0  u125   \n",
       "612   3.99  1/23/2023  XS0874864860     2023  16900000.0  u125   \n",
       "\n",
       "                     VALOR YRS_TO_MAT  \n",
       "631   SPGB 3,8% 30/04/2024          4  \n",
       "597        ESTADO4,65 0725          5  \n",
       "612  TEF 3.987% 23/01/2023          3  "
      ]
     },
     "execution_count": 51,
     "metadata": {},
     "output_type": "execute_result"
    }
   ],
   "source": [
    "assets_sell"
   ]
  },
  {
   "cell_type": "code",
   "execution_count": 52,
   "metadata": {},
   "outputs": [
    {
     "data": {
      "text/plain": [
       "[271, 277, 281, 284, 288]"
      ]
     },
     "execution_count": 52,
     "metadata": {},
     "output_type": "execute_result"
    }
   ],
   "source": [
    "\n",
    "u125[u125[\"YEAR\"].isin(gap_years)].index.tolist()"
   ]
  },
  {
   "cell_type": "code",
   "execution_count": 53,
   "metadata": {},
   "outputs": [
    {
     "data": {
      "text/html": [
       "<div>\n",
       "<style scoped>\n",
       "    .dataframe tbody tr th:only-of-type {\n",
       "        vertical-align: middle;\n",
       "    }\n",
       "\n",
       "    .dataframe tbody tr th {\n",
       "        vertical-align: top;\n",
       "    }\n",
       "\n",
       "    .dataframe thead th {\n",
       "        text-align: right;\n",
       "    }\n",
       "</style>\n",
       "<table border=\"1\" class=\"dataframe\">\n",
       "  <thead>\n",
       "    <tr style=\"text-align: right;\">\n",
       "      <th></th>\n",
       "      <th>PLAN</th>\n",
       "      <th>ISIN</th>\n",
       "      <th>VALOR</th>\n",
       "      <th>CUPON</th>\n",
       "      <th>FEC_VTO</th>\n",
       "      <th>NOM</th>\n",
       "      <th>MATURITY</th>\n",
       "      <th>YRS_TO_MAT</th>\n",
       "    </tr>\n",
       "  </thead>\n",
       "  <tbody>\n",
       "  </tbody>\n",
       "</table>\n",
       "</div>"
      ],
      "text/plain": [
       "Empty DataFrame\n",
       "Columns: [PLAN, ISIN, VALOR, CUPON, FEC_VTO, NOM, MATURITY, YRS_TO_MAT]\n",
       "Index: []"
      ]
     },
     "execution_count": 53,
     "metadata": {},
     "output_type": "execute_result"
    }
   ],
   "source": [
    "assets_purchase = pd.DataFrame(columns=['PLAN','ISIN','VALOR','CUPON','FEC_VTO','NOM','MATURITY','YRS_TO_MAT'])\n",
    "assets_purchase"
   ]
  },
  {
   "cell_type": "code",
   "execution_count": 54,
   "metadata": {},
   "outputs": [],
   "source": [
    "for year in gap_years:\n",
    "    if available_cash >= abs(int(u125[u125[\"YEAR\"] == year][\"GAP\"])):\n",
    "\n",
    "        aux_df = pd.DataFrame({'PLAN':u125.iloc[0][\"PLAN\"],\n",
    "                        'ISIN': [\"GEN_CORP_BOND_\" + str(year)],\n",
    "                        'VALOR': [\"Generic corporate bond with maturity \" + str(year)],\n",
    "                        'CUPON':5,\n",
    "                        'FEC_VTO':year,\n",
    "                        'NOM':abs(int(u125[u125[\"YEAR\"] == year][\"GAP\"])),\n",
    "                        'MATURITY':year,\n",
    "                        'YRS_TO_MAT': year - 2021})\n",
    "        \n",
    "        available_cash = available_cash - aux_df.iloc[0]['NOM']\n",
    "        \n",
    "        assets_purchase = assets_purchase.append(aux_df)\n",
    "        assets_purchase = assets_purchase.reset_index(drop = True)\n",
    "    else:\n",
    "        assets_purchase.iloc[0]['NOM'] += available_cash"
   ]
  },
  {
   "cell_type": "code",
   "execution_count": null,
   "metadata": {},
   "outputs": [],
   "source": []
  },
  {
   "cell_type": "code",
   "execution_count": 55,
   "metadata": {},
   "outputs": [
    {
     "data": {
      "text/html": [
       "<div>\n",
       "<style scoped>\n",
       "    .dataframe tbody tr th:only-of-type {\n",
       "        vertical-align: middle;\n",
       "    }\n",
       "\n",
       "    .dataframe tbody tr th {\n",
       "        vertical-align: top;\n",
       "    }\n",
       "\n",
       "    .dataframe thead th {\n",
       "        text-align: right;\n",
       "    }\n",
       "</style>\n",
       "<table border=\"1\" class=\"dataframe\">\n",
       "  <thead>\n",
       "    <tr style=\"text-align: right;\">\n",
       "      <th></th>\n",
       "      <th>PLAN</th>\n",
       "      <th>ISIN</th>\n",
       "      <th>VALOR</th>\n",
       "      <th>CUPON</th>\n",
       "      <th>FEC_VTO</th>\n",
       "      <th>NOM</th>\n",
       "      <th>MATURITY</th>\n",
       "      <th>YRS_TO_MAT</th>\n",
       "    </tr>\n",
       "  </thead>\n",
       "  <tbody>\n",
       "    <tr>\n",
       "      <th>0</th>\n",
       "      <td>u125</td>\n",
       "      <td>GEN_CORP_BOND_2021</td>\n",
       "      <td>Generic corporate bond with maturity 2021</td>\n",
       "      <td>5</td>\n",
       "      <td>2021</td>\n",
       "      <td>49921042</td>\n",
       "      <td>2021</td>\n",
       "      <td>0</td>\n",
       "    </tr>\n",
       "    <tr>\n",
       "      <th>1</th>\n",
       "      <td>u125</td>\n",
       "      <td>GEN_CORP_BOND_2027</td>\n",
       "      <td>Generic corporate bond with maturity 2027</td>\n",
       "      <td>5</td>\n",
       "      <td>2027</td>\n",
       "      <td>7364198</td>\n",
       "      <td>2027</td>\n",
       "      <td>6</td>\n",
       "    </tr>\n",
       "    <tr>\n",
       "      <th>2</th>\n",
       "      <td>u125</td>\n",
       "      <td>GEN_CORP_BOND_2031</td>\n",
       "      <td>Generic corporate bond with maturity 2031</td>\n",
       "      <td>5</td>\n",
       "      <td>2031</td>\n",
       "      <td>5990307</td>\n",
       "      <td>2031</td>\n",
       "      <td>10</td>\n",
       "    </tr>\n",
       "    <tr>\n",
       "      <th>3</th>\n",
       "      <td>u125</td>\n",
       "      <td>GEN_CORP_BOND_2038</td>\n",
       "      <td>Generic corporate bond with maturity 2038</td>\n",
       "      <td>5</td>\n",
       "      <td>2038</td>\n",
       "      <td>5911758</td>\n",
       "      <td>2038</td>\n",
       "      <td>17</td>\n",
       "    </tr>\n",
       "    <tr>\n",
       "      <th>4</th>\n",
       "      <td>u125</td>\n",
       "      <td>GEN_CORP_BOND_2034</td>\n",
       "      <td>Generic corporate bond with maturity 2034</td>\n",
       "      <td>5</td>\n",
       "      <td>2034</td>\n",
       "      <td>5624162</td>\n",
       "      <td>2034</td>\n",
       "      <td>13</td>\n",
       "    </tr>\n",
       "  </tbody>\n",
       "</table>\n",
       "</div>"
      ],
      "text/plain": [
       "   PLAN                ISIN                                      VALOR CUPON  \\\n",
       "0  u125  GEN_CORP_BOND_2021  Generic corporate bond with maturity 2021     5   \n",
       "1  u125  GEN_CORP_BOND_2027  Generic corporate bond with maturity 2027     5   \n",
       "2  u125  GEN_CORP_BOND_2031  Generic corporate bond with maturity 2031     5   \n",
       "3  u125  GEN_CORP_BOND_2038  Generic corporate bond with maturity 2038     5   \n",
       "4  u125  GEN_CORP_BOND_2034  Generic corporate bond with maturity 2034     5   \n",
       "\n",
       "  FEC_VTO       NOM MATURITY YRS_TO_MAT  \n",
       "0    2021  49921042     2021          0  \n",
       "1    2027   7364198     2027          6  \n",
       "2    2031   5990307     2031         10  \n",
       "3    2038   5911758     2038         17  \n",
       "4    2034   5624162     2034         13  "
      ]
     },
     "execution_count": 55,
     "metadata": {},
     "output_type": "execute_result"
    }
   ],
   "source": [
    "assets_purchase"
   ]
  },
  {
   "cell_type": "code",
   "execution_count": null,
   "metadata": {},
   "outputs": [],
   "source": [
    "                        'ISIN': \"CASH\",\n",
    "                        'VALOR':\"REMAIN CASH ALLOCATION\"_"
   ]
  },
  {
   "cell_type": "code",
   "execution_count": null,
   "metadata": {},
   "outputs": [],
   "source": []
  }
 ],
 "metadata": {
  "kernelspec": {
   "display_name": "Python [conda env:ironhack_env]",
   "language": "python",
   "name": "conda-env-ironhack_env-py"
  },
  "language_info": {
   "codemirror_mode": {
    "name": "ipython",
    "version": 3
   },
   "file_extension": ".py",
   "mimetype": "text/x-python",
   "name": "python",
   "nbconvert_exporter": "python",
   "pygments_lexer": "ipython3",
   "version": "3.7.3"
  }
 },
 "nbformat": 4,
 "nbformat_minor": 4
}
